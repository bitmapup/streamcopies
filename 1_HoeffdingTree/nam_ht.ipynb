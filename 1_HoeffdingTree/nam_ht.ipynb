{
 "cells": [
  {
   "cell_type": "markdown",
   "metadata": {},
   "source": [
    "## Documentation\n",
    "* https://towardsdatascience.com/introducing-hoeffdings-inequality-for-creating-storage-less-decision-trees-b5135e65e51e"
   ]
  },
  {
   "cell_type": "code",
   "execution_count": 2,
   "metadata": {},
   "outputs": [],
   "source": [
    "from sklearn import svm\n",
    "from sklearn import tree\n",
    "import pandas as pd\n",
    "import numpy as np\n",
    "from sklearn.model_selection import cross_val_score\n",
    "from sklearn.model_selection import GridSearchCV\n",
    "from sklearn import preprocessing\n",
    "from sklearn.tree import export_text\n"
   ]
  },
  {
   "cell_type": "code",
   "execution_count": 3,
   "metadata": {},
   "outputs": [],
   "source": [
    "dataset_feature_names=[     'amount_usd',      \n",
    "                            'client_age',\n",
    "                           'client_gender__',\n",
    "                          'client_gender__F',\n",
    "                          'client_gender__M',\n",
    "                            'debit_type__TC',\n",
    "                            'debit_type__TD',\n",
    "                          'agency_region__0',\n",
    "                          'agency_region__1',\n",
    "                          'agency_region__2',\n",
    "                          'agency_region__3',\n",
    "                          'agency_region__4',\n",
    "                          'agency_region__5',\n",
    "                          'agency_region__6',\n",
    "                          'agency_region__7',\n",
    "                          'agency_region__8',\n",
    "                          'agency_region__9',\n",
    "                         'agency_region__10',\n",
    "                         'agency_region__11',\n",
    "                         'agency_region__12',\n",
    "                  'merchant_departement__99',\n",
    "            'merchant_departement__AMAZONAS',\n",
    "              'merchant_departement__ANCASH',\n",
    "            'merchant_departement__APURIMAC',\n",
    "            'merchant_departement__AREQUIPA',\n",
    "            'merchant_departement__AYACUCHO',\n",
    "           'merchant_departement__CAJAMARCA',\n",
    "              'merchant_departement__CALLAO',\n",
    "               'merchant_departement__CUSCO',\n",
    "        'merchant_departement__HUANCAVELICA',\n",
    "             'merchant_departement__HUÁNUCO',\n",
    "                 'merchant_departement__ICA',\n",
    "               'merchant_departement__JUNIN',\n",
    "         'merchant_departement__LA LIBERTAD',\n",
    "          'merchant_departement__LAMBAYEQUE',\n",
    "                'merchant_departement__LIMA',\n",
    "              'merchant_departement__LORETO',\n",
    "       'merchant_departement__MADRE DE DIOS',\n",
    "            'merchant_departement__MOQUEGUA',\n",
    "               'merchant_departement__PASCO',\n",
    "               'merchant_departement__PIURA',\n",
    "                'merchant_departement__PUNO',\n",
    "          'merchant_departement__SAN MARTIN',\n",
    "               'merchant_departement__TACNA',\n",
    "              'merchant_departement__TUMBES',\n",
    "             'merchant_departement__UCAYALI',\n",
    "                              'social_class']\n",
    "              "
   ]
  },
  {
   "cell_type": "code",
   "execution_count": 4,
   "metadata": {},
   "outputs": [],
   "source": [
    "#read dataset\n",
    "df = pd.read_csv('../data_output/export_dataframe_0v4.csv',header=None,names=dataset_feature_names)\n",
    "y=np.asarray(df['social_class'])\n",
    "X=np.asarray(df.iloc[:,0:-1])"
   ]
  },
  {
   "cell_type": "code",
   "execution_count": 5,
   "metadata": {},
   "outputs": [
    {
     "data": {
      "text/plain": [
       "(1000000, 46)"
      ]
     },
     "execution_count": 5,
     "metadata": {},
     "output_type": "execute_result"
    }
   ],
   "source": [
    "X.shape"
   ]
  },
  {
   "cell_type": "markdown",
   "metadata": {},
   "source": [
    "## Fitting a Hoeffding Tree at once  vs fitting it via Streaming"
   ]
  },
  {
   "cell_type": "code",
   "execution_count": 7,
   "metadata": {},
   "outputs": [],
   "source": [
    "# from sklearn.datasets import make_classification\n",
    "from sklearn.model_selection import train_test_split\n",
    "from skmultiflow.trees import HoeffdingTree\n",
    "import matplotlib.pyplot as plt\n"
   ]
  },
  {
   "cell_type": "markdown",
   "metadata": {},
   "source": [
    "### fitting at once "
   ]
  },
  {
   "cell_type": "code",
   "execution_count": 8,
   "metadata": {},
   "outputs": [
    {
     "name": "stdout",
     "output_type": "stream",
     "text": [
      "Score when fitting at once: 0.85005\n"
     ]
    }
   ],
   "source": [
    "\n",
    "X_train, X_test, y_train, y_test = train_test_split(X, y, test_size=0.2, random_state=123)# Define a tree for fitting the complete dataset and one for streaming.\n",
    "ht_complete = HoeffdingTree()\n",
    "ht_complete.fit(X_train, y_train)\n",
    "ht_complete_score = ht_complete.score(X_test, y_test)\n",
    "print(f'Score when fitting at once: {ht_complete_score}')# Streaming samples one after another.\n"
   ]
  },
  {
   "cell_type": "markdown",
   "metadata": {},
   "source": [
    "### Streaming "
   ]
  },
  {
   "cell_type": "code",
   "execution_count": 14,
   "metadata": {},
   "outputs": [
    {
     "name": "stdout",
     "output_type": "stream",
     "text": [
      "Score when streaming after 0 samples: 0.8504\n",
      "(Almost) full score reached! Continue for another 0 samples.\n",
      "Score when streaming after 1 samples: 0.850395\n",
      "(Almost) full score reached! Continue for another 1 samples.\n",
      "Score when streaming after 2 samples: 0.850395\n",
      "(Almost) full score reached! Continue for another 2 samples.\n",
      "Score when streaming after 3 samples: 0.850395\n",
      "(Almost) full score reached! Continue for another 3 samples.\n",
      "Score when streaming after 4 samples: 0.8504\n",
      "(Almost) full score reached! Continue for another 4 samples.\n",
      "Score when streaming after 5 samples: 0.8504\n",
      "(Almost) full score reached! Continue for another 5 samples.\n",
      "Score when streaming after 6 samples: 0.8504\n",
      "(Almost) full score reached! Continue for another 6 samples.\n",
      "Score when streaming after 7 samples: 0.73501\n",
      "Score when streaming after 8 samples: 0.8504\n",
      "(Almost) full score reached! Continue for another 7 samples.\n",
      "Score when streaming after 9 samples: 0.8504\n",
      "(Almost) full score reached! Continue for another 8 samples.\n",
      "Score when streaming after 10 samples: 0.8504\n",
      "(Almost) full score reached! Continue for another 9 samples.\n",
      "Score when streaming after 11 samples: 0.8504\n",
      "(Almost) full score reached! Continue for another 10 samples.\n",
      "Score when streaming after 12 samples: 0.8504\n",
      "(Almost) full score reached! Continue for another 11 samples.\n",
      "Score when streaming after 13 samples: 0.8504\n",
      "(Almost) full score reached! Continue for another 12 samples.\n",
      "Score when streaming after 14 samples: 0.8504\n",
      "(Almost) full score reached! Continue for another 13 samples.\n",
      "Score when streaming after 15 samples: 0.8504\n",
      "(Almost) full score reached! Continue for another 14 samples.\n",
      "Score when streaming after 16 samples: 0.8504\n",
      "(Almost) full score reached! Continue for another 15 samples.\n",
      "Score when streaming after 17 samples: 0.8504\n",
      "(Almost) full score reached! Continue for another 16 samples.\n",
      "Score when streaming after 18 samples: 0.8504\n",
      "(Almost) full score reached! Continue for another 17 samples.\n",
      "Score when streaming after 19 samples: 0.8504\n",
      "(Almost) full score reached! Continue for another 18 samples.\n",
      "Score when streaming after 20 samples: 0.8504\n",
      "(Almost) full score reached! Continue for another 19 samples.\n",
      "Score when streaming after 21 samples: 0.8504\n",
      "(Almost) full score reached! Continue for another 20 samples.\n",
      "Score when streaming after 22 samples: 0.8504\n",
      "(Almost) full score reached! Continue for another 21 samples.\n",
      "Score when streaming after 23 samples: 0.8504\n",
      "(Almost) full score reached! Continue for another 22 samples.\n",
      "Score when streaming after 24 samples: 0.8504\n",
      "(Almost) full score reached! Continue for another 23 samples.\n",
      "Score when streaming after 25 samples: 0.8504\n",
      "(Almost) full score reached! Continue for another 24 samples.\n",
      "Score when streaming after 26 samples: 0.8504\n",
      "(Almost) full score reached! Continue for another 25 samples.\n",
      "Score when streaming after 27 samples: 0.8504\n",
      "(Almost) full score reached! Continue for another 26 samples.\n",
      "Score when streaming after 28 samples: 0.8504\n",
      "(Almost) full score reached! Continue for another 27 samples.\n",
      "Score when streaming after 29 samples: 0.8504\n",
      "(Almost) full score reached! Continue for another 28 samples.\n",
      "Score when streaming after 30 samples: 0.8504\n",
      "(Almost) full score reached! Continue for another 29 samples.\n",
      "Score when streaming after 31 samples: 0.8504\n",
      "(Almost) full score reached! Continue for another 30 samples.\n",
      "Score when streaming after 32 samples: 0.8504\n",
      "(Almost) full score reached! Continue for another 31 samples.\n",
      "Score when streaming after 33 samples: 0.8504\n",
      "(Almost) full score reached! Continue for another 32 samples.\n",
      "Score when streaming after 34 samples: 0.8504\n",
      "(Almost) full score reached! Continue for another 33 samples.\n",
      "Score when streaming after 35 samples: 0.8504\n",
      "(Almost) full score reached! Continue for another 34 samples.\n",
      "Score when streaming after 36 samples: 0.8504\n",
      "(Almost) full score reached! Continue for another 35 samples.\n",
      "Score when streaming after 37 samples: 0.8504\n",
      "(Almost) full score reached! Continue for another 36 samples.\n",
      "Score when streaming after 38 samples: 0.8504\n",
      "(Almost) full score reached! Continue for another 37 samples.\n",
      "Score when streaming after 39 samples: 0.8504\n",
      "(Almost) full score reached! Continue for another 38 samples.\n",
      "Score when streaming after 40 samples: 0.8504\n",
      "(Almost) full score reached! Continue for another 39 samples.\n",
      "Score when streaming after 41 samples: 0.8504\n",
      "(Almost) full score reached! Continue for another 40 samples.\n",
      "Score when streaming after 42 samples: 0.8504\n",
      "(Almost) full score reached! Continue for another 41 samples.\n",
      "Score when streaming after 43 samples: 0.8504\n",
      "(Almost) full score reached! Continue for another 42 samples.\n",
      "Score when streaming after 44 samples: 0.8504\n",
      "(Almost) full score reached! Continue for another 43 samples.\n",
      "Score when streaming after 45 samples: 0.8504\n",
      "(Almost) full score reached! Continue for another 44 samples.\n",
      "Score when streaming after 46 samples: 0.8504\n",
      "(Almost) full score reached! Continue for another 45 samples.\n",
      "Score when streaming after 47 samples: 0.8504\n",
      "(Almost) full score reached! Continue for another 46 samples.\n",
      "Score when streaming after 48 samples: 0.8504\n",
      "(Almost) full score reached! Continue for another 47 samples.\n",
      "Score when streaming after 49 samples: 0.8504\n",
      "(Almost) full score reached! Continue for another 48 samples.\n",
      "Score when streaming after 50 samples: 0.8504\n",
      "(Almost) full score reached! Continue for another 49 samples.\n"
     ]
    },
    {
     "data": {
      "text/plain": [
       "<matplotlib.legend.Legend at 0x1a1b709dd8>"
      ]
     },
     "execution_count": 14,
     "metadata": {},
     "output_type": "execute_result"
    },
    {
     "data": {
      "image/png": "[encoded data removed]",
      "text/plain": [
       "<Figure size 864x432 with 1 Axes>"
      ]
     },
     "metadata": {
      "needs_background": "light"
     },
     "output_type": "display_data"
    }
   ],
   "source": [
    "ht_partial = HoeffdingTree()# Fit the complete dataset.\n",
    "res = []# Create a dataset.\n",
    "batch_size=10000\n",
    "dataset_size = len(X_train)\n",
    "iterations = int(dataset_size/batch_size)\n",
    "i=0\n",
    "\n",
    "stream = FileStream(\"../data_output/export_dataframe_0v4.csv\", -1, 1,  pCat_features_idx)\n",
    "stream.prepare_for_use()\n",
    "#X, y = stream.next_sample(10000)\n",
    "\n",
    "while (i<iterations):\n",
    "    \n",
    "    i+=1\n",
    "\n",
    "j = 0\n",
    "for i in range(len(X_train)):\n",
    "    ht_partial.partial_fit(X_train[i].reshape(1, -1), np.array([y_train[i]]))\n",
    "    res.append(ht_partial.score(X_test, y_test))\n",
    "    print(f'Score when streaming after {i} samples: {res[-1]}')\n",
    "    if res[-1] >= ht_complete_score - 0.01:\n",
    "        print(f'(Almost) full score reached! Continue for another {j} samples.')\n",
    "        j += 1\n",
    "    if j >= 50:\n",
    "        break# Plot the scores after each sample.\n",
    "plt.figure(figsize=(12, 6))\n",
    "plt.plot([0, i], [ht_complete_score, ht_complete_score], '--', label='Hoeffding Tree built at once')\n",
    "plt.plot(res, label='Incrementally built Hoeffding Tree')\n",
    "plt.xlabel('Number of Samples', fontsize=15)\n",
    "plt.ylabel('Accuracy', fontsize=15)\n",
    "plt.title('Fitting a Hoeffding Tree at once (enough Memory available) vs fitting it via Streaming', fontsize=20)\n",
    "plt.legend()"
   ]
  },
  {
   "cell_type": "code",
   "execution_count": null,
   "metadata": {},
   "outputs": [],
   "source": []
  }
 ],
 "metadata": {
  "kernelspec": {
   "display_name": "onlineHT",
   "language": "python",
   "name": "onlineht"
  },
  "language_info": {
   "codemirror_mode": {
    "name": "ipython",
    "version": 3
   },
   "file_extension": ".py",
   "mimetype": "text/x-python",
   "name": "python",
   "nbconvert_exporter": "python",
   "pygments_lexer": "ipython3",
   "version": "3.6.10"
  }
 },
 "nbformat": 4,
 "nbformat_minor": 2
}
