{
 "cells": [
  {
   "cell_type": "markdown",
   "metadata": {},
   "source": [
    "# hoeffding adaptive tree\n",
    "\n",
    "## Doc\n",
    "  * https://scikit-multiflow.github.io/scikit-multiflow/skmultiflow.classification.trees.html\n",
    "  * https://scikit-multiflow.github.io/scikit-multiflow/skmultiflow.data.file_stream.html\n",
    "  * https://scikit-multiflow.github.io/scikit-multiflow/skmultiflow.evaluation.evaluate_prequential.html"
   ]
  },
  {
   "cell_type": "code",
   "execution_count": 27,
   "metadata": {},
   "outputs": [
    {
     "name": "stdout",
     "output_type": "stream",
     "text": [
      "Prequential Evaluation\n",
      "Evaluating 1 target(s).\n",
      "Pre-training on 200 sample(s).\n",
      "Evaluating...\n",
      " #################### [100%] [175.23s]\n",
      "Processed samples: 50000\n",
      "Mean performance:\n",
      "M0 - Accuracy     : 0.7487\n"
     ]
    },
    {
     "data": {
      "text/plain": [
       "[HAT(binary_split=False, grace_period=200, leaf_prediction='nba',\n",
       "     max_byte_size=33554432, memory_estimate_period=1000000, nb_threshold=0,\n",
       "     no_preprune=False, nominal_attributes=None, remove_poor_atts=False,\n",
       "     split_confidence=1e-07, split_criterion='info_gain',\n",
       "     stop_mem_management=False, tie_threshold=0.05)]"
      ]
     },
     "execution_count": 27,
     "metadata": {},
     "output_type": "execute_result"
    }
   ],
   "source": [
    "from skmultiflow.trees.hoeffding_adaptive_tree import HAT\n",
    "from skmultiflow.data.file_stream import FileStream\n",
    "from skmultiflow.evaluation.evaluate_prequential import EvaluatePrequential\n",
    "# Setup the File Stream\n",
    "stream = FileStream(\"covtype.csv\", -1, 1)\n",
    "stream.prepare_for_use()\n",
    "\n",
    "classifier = HAT()\n",
    "evaluator = EvaluatePrequential(pretrain_size=200, max_samples=50000, batch_size=50, n_wait=200, max_time=1000,\n",
    "                                 output_file=None, show_plot=False, metrics=['accuracy'])\n",
    "\n",
    "evaluator.evaluate(stream=stream, model=classifier)"
   ]
  },
  {
   "cell_type": "code",
   "execution_count": 1,
   "metadata": {},
   "outputs": [
    {
     "name": "stdout",
     "output_type": "stream",
     "text": [
      "Prequential Evaluation\n",
      "Evaluating 1 target(s).\n",
      "Pre-training on 1000 sample(s).\n",
      "Evaluating...\n",
      " #################### [100%] [669.93s]\n",
      "Processed samples: 1000000\n",
      "Mean performance:\n",
      "M0 - Accuracy     : 0.7517\n",
      "M0 - Training time (s)  : 467.38\n",
      "M0 - Testing time  (s)  : 114.35\n",
      "M0 - Total time    (s)  : 581.73\n",
      "M0 - Size (kB)          : 81.2725\n"
     ]
    },
    {
     "data": {
      "text/plain": [
       "[HAT(binary_split=False, grace_period=200, leaf_prediction='nba',\n",
       "     max_byte_size=33554432, memory_estimate_period=1000000, nb_threshold=0,\n",
       "     no_preprune=False, nominal_attributes=None, remove_poor_atts=False,\n",
       "     split_confidence=1e-07, split_criterion='info_gain',\n",
       "     stop_mem_management=False, tie_threshold=0.05)]"
      ]
     },
     "execution_count": 1,
     "metadata": {},
     "output_type": "execute_result"
    }
   ],
   "source": [
    "from skmultiflow.trees.hoeffding_adaptive_tree import HAT\n",
    "from skmultiflow.data.file_stream import FileStream\n",
    "from skmultiflow.evaluation.evaluate_prequential import EvaluatePrequential\n",
    "# Setup the File Stream\n",
    "\n",
    "stream = FileStream(\"../data/export_dataframe_num.csv\", -1, 1)\n",
    "stream.prepare_for_use()\n",
    "\n",
    "classifier = HAT()\n",
    "evaluator = EvaluatePrequential(pretrain_size=10000, max_samples=1000000, batch_size=10000, n_wait=10000, max_time=1000,\n",
    "                                 output_file='summary_ht.txt', show_plot=False, metrics=['accuracy','running_time','model_size']\n",
    "                               )\n",
    "\n",
    "evaluator.evaluate(stream=stream, model=classifier)"
   ]
  },
  {
   "cell_type": "code",
   "execution_count": null,
   "metadata": {},
   "outputs": [],
   "source": []
  },
  {
   "cell_type": "code",
   "execution_count": 2,
   "metadata": {},
   "outputs": [
    {
     "name": "stdout",
     "output_type": "stream",
     "text": [
      "Prequential Evaluation\n",
      "Evaluating 1 target(s).\n",
      "Pre-training on 1000 sample(s).\n",
      "Evaluating...\n",
      " #################### [100%] [664.92s]\n",
      "Processed samples: 1000000\n",
      "Mean performance:\n",
      "M0 - Accuracy     : 0.7517\n",
      "M0 - Training time (s)  : 463.30\n",
      "M0 - Testing time  (s)  : 113.42\n",
      "M0 - Total time    (s)  : 576.71\n",
      "M0 - Size (kB)          : 81.2725\n"
     ]
    },
    {
     "data": {
      "text/plain": [
       "[HAT(binary_split=False, grace_period=200, leaf_prediction='nba',\n",
       "     max_byte_size=33554432, memory_estimate_period=1000000, nb_threshold=0,\n",
       "     no_preprune=True, nominal_attributes=None, remove_poor_atts=False,\n",
       "     split_confidence=1e-07, split_criterion='info_gain',\n",
       "     stop_mem_management=False, tie_threshold=0.05)]"
      ]
     },
     "execution_count": 2,
     "metadata": {},
     "output_type": "execute_result"
    }
   ],
   "source": [
    "from skmultiflow.trees.hoeffding_adaptive_tree import HAT\n",
    "from skmultiflow.data.file_stream import FileStream\n",
    "from skmultiflow.evaluation.evaluate_prequential import EvaluatePrequential\n",
    "# Setup the File Stream\n",
    "\n",
    "stream = FileStream(\"../data/export_dataframe_num.csv\", -1, 1)\n",
    "stream.prepare_for_use()\n",
    "\n",
    "classifier = HAT(no_preprune=True)\n",
    "evaluator = EvaluatePrequential(pretrain_size=10000, max_samples=1000000, batch_size=10000, n_wait=10000, max_time=1000,\n",
    "                                 output_file='summary_ht.txt', show_plot=False, metrics=['accuracy','running_time','model_size']\n",
    "                               )\n",
    "\n",
    "evaluator.evaluate(stream=stream, model=classifier)"
   ]
  },
  {
   "cell_type": "code",
   "execution_count": null,
   "metadata": {},
   "outputs": [],
   "source": []
  }
 ],
 "metadata": {
  "kernelspec": {
   "display_name": "onlineHT",
   "language": "python",
   "name": "onlineht"
  },
  "language_info": {
   "codemirror_mode": {
    "name": "ipython",
    "version": 3
   },
   "file_extension": ".py",
   "mimetype": "text/x-python",
   "name": "python",
   "nbconvert_exporter": "python",
   "pygments_lexer": "ipython3",
   "version": "3.6.10"
  }
 },
 "nbformat": 4,
 "nbformat_minor": 2
}
