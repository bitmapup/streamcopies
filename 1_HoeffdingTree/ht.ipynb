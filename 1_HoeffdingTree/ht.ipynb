{
 "cells": [
  {
   "cell_type": "markdown",
   "metadata": {},
   "source": [
    "# hoeffding adaptive tree\n",
    "\n",
    "## Doc\n",
    "  * https://scikit-multiflow.github.io/scikit-multiflow/skmultiflow.classification.trees.html\n",
    "  * https://scikit-multiflow.github.io/scikit-multiflow/skmultiflow.data.file_stream.html\n",
    "  * https://scikit-multiflow.github.io/scikit-multiflow/skmultiflow.evaluation.evaluate_prequential.html"
   ]
  },
  {
   "cell_type": "code",
   "execution_count": 73,
   "metadata": {},
   "outputs": [],
   "source": [
    "from skmultiflow.trees import HoeffdingTree\n",
    "from skmultiflow.trees.hoeffding_adaptive_tree import HAT\n",
    "from skmultiflow.data.file_stream import FileStream\n",
    "from skmultiflow.evaluation.evaluate_prequential import EvaluatePrequential\n",
    "import numpy as np"
   ]
  },
  {
   "cell_type": "code",
   "execution_count": 92,
   "metadata": {},
   "outputs": [],
   "source": [
    "from skmultiflow.metrics import ClassificationMeasurements\n",
    "classMEtrics = ClassificationMeasurements()"
   ]
  },
  {
   "cell_type": "code",
   "execution_count": null,
   "metadata": {},
   "outputs": [],
   "source": []
  },
  {
   "cell_type": "code",
   "execution_count": 76,
   "metadata": {},
   "outputs": [],
   "source": [
    "def compute_y_weight(y):\n",
    "    aux = np.unique(y,return_counts=True)\n",
    "    nb_classes = len(aux[0])\n",
    "    list_classes = aux[0]\n",
    "    count_classes = aux[1]\n",
    "    sum_classes =  float(np.sum(count_classes))\n",
    "    weight_classes = count_classes/sum_classes\n",
    "    y_weights = y.copy()\n",
    "    \n",
    "    i = 0\n",
    "    while i < nb_classes:\n",
    "        \n",
    "        class_i = list_classes[i]\n",
    "        y_weights = np.where(y_weights==float(class_i), weight_classes[i], y_weights) \n",
    "        i += 1\n",
    "    return y_weights"
   ]
  },
  {
   "cell_type": "code",
   "execution_count": null,
   "metadata": {},
   "outputs": [],
   "source": []
  },
  {
   "cell_type": "markdown",
   "metadata": {},
   "source": [
    "# Comparing HT and HAT"
   ]
  },
  {
   "cell_type": "code",
   "execution_count": 103,
   "metadata": {},
   "outputs": [
    {
     "name": "stdout",
     "output_type": "stream",
     "text": [
      "Prequential Evaluation\n",
      "Evaluating 1 target(s).\n",
      "Pre-training on 10000 sample(s).\n",
      "Evaluating...\n",
      "\n",
      "Time limit reached (1000.00s). Evaluation stopped.\n",
      "Processed samples: 340000\n",
      "Mean performance:\n",
      "HT - Accuracy     : 0.8380\n",
      "HT - Training time (s)  : 159.37\n",
      "HT - Testing time  (s)  : 31.66\n",
      "HT - Total time    (s)  : 191.03\n",
      "HT - Size (kB)          : 1884258.3047\n",
      "HAT - Accuracy     : 0.8441\n",
      "HAT - Training time (s)  : 26.51\n",
      "HAT - Testing time  (s)  : 10.25\n",
      "HAT - Total time    (s)  : 36.76\n",
      "HAT - Size (kB)          : 644.3047\n"
     ]
    }
   ],
   "source": [
    "\n",
    "pCat_features_idx = list(range(2,45))\n",
    "\n",
    "# Setup the File Stream\n",
    "stream = FileStream(\"../data_output/export_dataframe_0v4.csv\", -1, 1,  pCat_features_idx)\n",
    "stream.prepare_for_use()\n",
    "#X, y = stream.next_sample(10000)\n",
    "#y_weights = compute_y_weight(y)\n",
    "\n",
    "cfiers = [HoeffdingTree(nominal_attributes=[0,1],split_confidence=1e-10), \n",
    "          HAT(nominal_attributes=[0,1],split_confidence=1e-10)\n",
    "         ]\n",
    "#classifier.partial_fit(X,y,[0,1],y_weights )\n",
    "evaluator = EvaluatePrequential(pretrain_size=10000, max_samples=1000000, batch_size=10000, n_wait=200, max_time=1000,\n",
    "                                 output_file='summary_hat.txt', show_plot=False, metrics=['accuracy','running_time','model_size']\n",
    "                               )\n",
    "models = evaluator.evaluate(stream=stream, model=cfiers, model_names=['HT', 'HAT']);\n",
    "#0.8499"
   ]
  },
  {
   "cell_type": "code",
   "execution_count": 104,
   "metadata": {},
   "outputs": [
    {
     "data": {
      "text/plain": [
       "(array([0, 1]), array([9415,  585]))"
      ]
     },
     "execution_count": 104,
     "metadata": {},
     "output_type": "execute_result"
    }
   ],
   "source": [
    "np.unique(models[0].predict(X),return_counts=True)"
   ]
  },
  {
   "cell_type": "code",
   "execution_count": 113,
   "metadata": {},
   "outputs": [
    {
     "data": {
      "text/plain": [
       "(array([0]), array([10000]))"
      ]
     },
     "execution_count": 113,
     "metadata": {},
     "output_type": "execute_result"
    }
   ],
   "source": [
    "np.unique(models[1].predict(X),return_counts=True)"
   ]
  },
  {
   "cell_type": "code",
   "execution_count": 89,
   "metadata": {},
   "outputs": [
    {
     "data": {
      "text/plain": [
       "(array([0.1976, 0.8024]), array([1976, 8024]))"
      ]
     },
     "execution_count": 89,
     "metadata": {},
     "output_type": "execute_result"
    }
   ],
   "source": [
    "np.unique(y_weights,return_counts=True)"
   ]
  },
  {
   "cell_type": "code",
   "execution_count": 112,
   "metadata": {},
   "outputs": [
    {
     "data": {
      "text/plain": [
       "\"HoeffdingTree(binary_split=False, grace_period=200, leaf_prediction='nba',\\n              max_byte_size=33554432, memory_estimate_period=1000000,\\n              nb_threshold=0, no_preprune=False, nominal_attributes=[0, 1],\\n              remove_poor_atts=False, split_confidence=1e-10,\\n              split_criterion='info_gain', stop_mem_management=False,\\n              tie_threshold=0.05)\""
      ]
     },
     "execution_count": 112,
     "metadata": {},
     "output_type": "execute_result"
    }
   ],
   "source": [
    "models[0].get_info()"
   ]
  },
  {
   "cell_type": "code",
   "execution_count": 111,
   "metadata": {},
   "outputs": [
    {
     "data": {
      "text/plain": [
       "\"HAT(binary_split=False, grace_period=200, leaf_prediction='nba',\\n    max_byte_size=33554432, memory_estimate_period=1000000, nb_threshold=0,\\n    no_preprune=False, nominal_attributes=[0, 1], remove_poor_atts=False,\\n    split_confidence=1e-10, split_criterion='info_gain',\\n    stop_mem_management=False, tie_threshold=0.05)\""
      ]
     },
     "execution_count": 111,
     "metadata": {},
     "output_type": "execute_result"
    }
   ],
   "source": [
    "models[1].get_info()"
   ]
  },
  {
   "cell_type": "code",
   "execution_count": null,
   "metadata": {},
   "outputs": [],
   "source": []
  }
 ],
 "metadata": {
  "kernelspec": {
   "display_name": "onlineHT",
   "language": "python",
   "name": "onlineht"
  },
  "language_info": {
   "codemirror_mode": {
    "name": "ipython",
    "version": 3
   },
   "file_extension": ".py",
   "mimetype": "text/x-python",
   "name": "python",
   "nbconvert_exporter": "python",
   "pygments_lexer": "ipython3",
   "version": "3.6.10"
  }
 },
 "nbformat": 4,
 "nbformat_minor": 2
}
