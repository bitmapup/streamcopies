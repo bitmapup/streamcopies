{
 "cells": [
  {
   "cell_type": "markdown",
   "metadata": {},
   "source": [
    "# HoeffdingTree using scikit-multiflow"
   ]
  },
  {
   "cell_type": "code",
   "execution_count": 1,
   "metadata": {},
   "outputs": [],
   "source": [
    "from skmultiflow.trees import HoeffdingTree\n",
    "from skmultiflow.trees.hoeffding_adaptive_tree import HAT\n",
    "from skmultiflow.data.file_stream import FileStream\n",
    "from skmultiflow.evaluation.evaluate_prequential import EvaluatePrequential\n",
    "import numpy as np"
   ]
  },
  {
   "cell_type": "code",
   "execution_count": 2,
   "metadata": {},
   "outputs": [],
   "source": [
    "def compute_y_weight(y):\n",
    "    aux = np.unique(y,return_counts=True)\n",
    "    nb_classes = len(aux[0])\n",
    "    list_classes = aux[0]\n",
    "    count_classes = aux[1]\n",
    "    sum_classes =  float(np.sum(count_classes))\n",
    "    weight_classes = count_classes/sum_classes\n",
    "    y_weights = y.copy()\n",
    "    \n",
    "    i = 0\n",
    "    while i < nb_classes:\n",
    "        \n",
    "        class_i = list_classes[i]\n",
    "        y_weights = np.where(y_weights==float(class_i), weight_classes[i], y_weights) \n",
    "        i += 1\n",
    "    return y_weights"
   ]
  },
  {
   "cell_type": "markdown",
   "metadata": {},
   "source": []
  },
  {
   "cell_type": "code",
   "execution_count": 3,
   "metadata": {},
   "outputs": [
    {
     "name": "stderr",
     "output_type": "stream",
     "text": [
      "/opt/anaconda3/envs/skmultiflow_dev/lib/python3.6/site-packages/scikit_multiflow-0.5.dev0-py3.6-macosx-10.9-x86_64.egg/skmultiflow/data/base_stream.py:193: FutureWarning: 'prepare_for_use' has been deprecated in v0.5.0 and will be removed in v0.7.0.\n",
      "New instances of the Stream class are now ready to use after instantiation.\n",
      "  category=FutureWarning)\n",
      "/opt/anaconda3/envs/skmultiflow_dev/lib/python3.6/site-packages/scikit_multiflow-0.5.dev0-py3.6-macosx-10.9-x86_64.egg/skmultiflow/trees/hoeffding_tree.py:34: FutureWarning: 'HoeffdingTree' has been renamed to 'HoeffdingTreeClassifier' in v0.5.0.\n",
      "The old name will be removed in v0.7.0\n",
      "  \"The old name will be removed in v0.7.0\", category=FutureWarning)\n",
      "/opt/anaconda3/envs/skmultiflow_dev/lib/python3.6/site-packages/scikit_multiflow-0.5.dev0-py3.6-macosx-10.9-x86_64.egg/skmultiflow/trees/hoeffding_adaptive_tree.py:17: FutureWarning: 'HAT' has been renamed to 'HoeffdingAdaptiveTreeClassifier' in v0.5.0.\n",
      "The old name will be removed in v0.7.0\n",
      "  \"The old name will be removed in v0.7.0\", category=FutureWarning)\n"
     ]
    },
    {
     "name": "stdout",
     "output_type": "stream",
     "text": [
      "Prequential Evaluation\n",
      "Evaluating 1 target(s).\n",
      "Pre-training on 10000 sample(s).\n",
      "Evaluating...\n",
      "\n",
      "Processed samples: 338100\n",
      "Mean performance:\n",
      "HT - Accuracy     : 0.8202\n",
      "HAT - Accuracy     : 0.8455\n"
     ]
    }
   ],
   "source": [
    "pCat_features_idx = list(range(2,45))\n",
    "\n",
    "# Setup the File Stream\n",
    "stream = FileStream(\"../data_output/export_dataframe_0v4.csv\", -1, 1,  pCat_features_idx)\n",
    "#stream = FileStream(\"../data_output/balanced.csv\", -1, 1,  pCat_features_idx)\n",
    "stream.prepare_for_use()\n",
    "#X, y = stream.next_sample(10000)\n",
    "#y_weights = compute_y_weight(y)\n",
    "\n",
    "cfiers = [HoeffdingTree(nominal_attributes=[0,1],split_confidence=1e-10), \n",
    "          HAT(nominal_attributes=[0,1],split_confidence=1e-10)\n",
    "         ]\n",
    "#classifier.partial_fit(X,y,[0,1],y_weights )\n",
    "evaluator = EvaluatePrequential(pretrain_size=10000, max_samples=1000000, batch_size=100, n_wait=200, max_time=10000,\n",
    "                                 output_file='summary_ht_balanced.txt', show_plot=False, \n",
    "                                metrics=['accuracy','true_vs_predicted'#,\n",
    "                                         #'precision','recall','f1',\n",
    "                                         #'running_time','model_size'\n",
    "                                        ])\n",
    "\n",
    "models = evaluator.evaluate(stream=stream, model=cfiers, model_names=['HT', 'HAT']);\n",
    "#0.8499"
   ]
  },
  {
   "cell_type": "code",
   "execution_count": 4,
   "metadata": {},
   "outputs": [
    {
     "name": "stderr",
     "output_type": "stream",
     "text": [
      "/opt/anaconda3/envs/skmultiflow_dev/lib/python3.6/site-packages/scikit_multiflow-0.5.dev0-py3.6-macosx-10.9-x86_64.egg/skmultiflow/data/base_stream.py:193: FutureWarning: 'prepare_for_use' has been deprecated in v0.5.0 and will be removed in v0.7.0.\n",
      "New instances of the Stream class are now ready to use after instantiation.\n",
      "  category=FutureWarning)\n",
      "/opt/anaconda3/envs/skmultiflow_dev/lib/python3.6/site-packages/scikit_multiflow-0.5.dev0-py3.6-macosx-10.9-x86_64.egg/skmultiflow/trees/hoeffding_tree.py:34: FutureWarning: 'HoeffdingTree' has been renamed to 'HoeffdingTreeClassifier' in v0.5.0.\n",
      "The old name will be removed in v0.7.0\n",
      "  \"The old name will be removed in v0.7.0\", category=FutureWarning)\n",
      "/opt/anaconda3/envs/skmultiflow_dev/lib/python3.6/site-packages/scikit_multiflow-0.5.dev0-py3.6-macosx-10.9-x86_64.egg/skmultiflow/trees/hoeffding_adaptive_tree.py:17: FutureWarning: 'HAT' has been renamed to 'HoeffdingAdaptiveTreeClassifier' in v0.5.0.\n",
      "The old name will be removed in v0.7.0\n",
      "  \"The old name will be removed in v0.7.0\", category=FutureWarning)\n"
     ]
    },
    {
     "name": "stdout",
     "output_type": "stream",
     "text": [
      "Prequential Evaluation\n",
      "Evaluating 1 target(s).\n",
      "Pre-training on 10000 sample(s).\n",
      "Evaluating...\n",
      "\n",
      "Time limit reached (1000.00s). Evaluation stopped.\n",
      "Processed samples: 510200\n",
      "Mean performance:\n",
      "HT - Accuracy     : 0.9831\n",
      "HAT - Accuracy     : 0.8673\n"
     ]
    }
   ],
   "source": [
    "pCat_features_idx = list(range(2,45))\n",
    "\n",
    "# Setup the File Stream\n",
    "stream = FileStream(\"../data_output/export_dataframe_0v4.csv\", -1, 1,  pCat_features_idx)\n",
    "#stream = FileStream(\"../data_output/balanced.csv\", -1, 1,  pCat_features_idx)\n",
    "stream.prepare_for_use()\n",
    "X, y = stream.next_sample(10000)\n",
    "y_weights = compute_y_weight(y)\n",
    "\n",
    "cfiers = [HoeffdingTree(nominal_attributes=[0,1],split_confidence=1e-10), \n",
    "          HAT(nominal_attributes=[0,1],split_confidence=1e-10)\n",
    "         ]\n",
    "cfiers[0].partial_fit(X,y,[0,1],y_weights )\n",
    "cfiers[1].partial_fit(X,y,[0,1],y_weights )\n",
    "\n",
    "evaluator = EvaluatePrequential(pretrain_size=10000, max_samples=1000000, batch_size=100, n_wait=200, max_time=1000,\n",
    "                                 output_file='summary_ht_balanced_partialfit.txt', show_plot=False, \n",
    "                                metrics=['accuracy','true_vs_predicted'#,\n",
    "                                         #'precision','recall','f1',\n",
    "                                         #'running_time','model_size'\n",
    "                                        ])\n",
    "models = evaluator.evaluate(stream=stream, model=cfiers, model_names=['HT', 'HAT']);\n",
    "#0.8499"
   ]
  },
  {
   "cell_type": "code",
   "execution_count": 5,
   "metadata": {},
   "outputs": [
    {
     "data": {
      "text/plain": [
       "(array([0, 1]), array([5044, 4956]))"
      ]
     },
     "execution_count": 5,
     "metadata": {},
     "output_type": "execute_result"
    }
   ],
   "source": [
    "np.unique(models[0].predict(X),return_counts=True)"
   ]
  },
  {
   "cell_type": "code",
   "execution_count": 6,
   "metadata": {},
   "outputs": [
    {
     "data": {
      "text/plain": [
       "(array([0, 1]), array([5356, 4644]))"
      ]
     },
     "execution_count": 6,
     "metadata": {},
     "output_type": "execute_result"
    }
   ],
   "source": [
    "np.unique(models[1].predict(X),return_counts=True)"
   ]
  },
  {
   "cell_type": "code",
   "execution_count": 7,
   "metadata": {},
   "outputs": [
    {
     "data": {
      "text/plain": [
       "(array([0.4998, 0.5002]), array([4998, 5002]))"
      ]
     },
     "execution_count": 7,
     "metadata": {},
     "output_type": "execute_result"
    }
   ],
   "source": [
    "np.unique(y_weights,return_counts=True)"
   ]
  },
  {
   "cell_type": "code",
   "execution_count": null,
   "metadata": {},
   "outputs": [],
   "source": []
  }
 ],
 "metadata": {
  "kernelspec": {
   "display_name": "skmultiflow_dev",
   "language": "python",
   "name": "skmultiflow_dev"
  },
  "language_info": {
   "codemirror_mode": {
    "name": "ipython",
    "version": 3
   },
   "file_extension": ".py",
   "mimetype": "text/x-python",
   "name": "python",
   "nbconvert_exporter": "python",
   "pygments_lexer": "ipython3",
   "version": "3.6.10"
  }
 },
 "nbformat": 4,
 "nbformat_minor": 2
}
