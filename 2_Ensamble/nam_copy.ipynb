{
 "cells": [
  {
   "cell_type": "code",
   "execution_count": 1,
   "metadata": {},
   "outputs": [],
   "source": [
    "from multiclass import ECOC\n",
    "from sklearn import svm\n",
    "from sklearn import tree\n",
    "import pandas as pd\n",
    "import numpy as np\n",
    "from sklearn.model_selection import cross_val_score\n",
    "from sklearn.model_selection import GridSearchCV\n",
    "from sklearn import preprocessing\n",
    "from sklearn.tree import export_text\n"
   ]
  },
  {
   "cell_type": "code",
   "execution_count": 2,
   "metadata": {},
   "outputs": [],
   "source": [
    "dataset_feature_names=[     'amount_usd',      \n",
    "                            'client_age',\n",
    "                           'client_gender__',\n",
    "                          'client_gender__F',\n",
    "                          'client_gender__M',\n",
    "                            'debit_type__TC',\n",
    "                            'debit_type__TD',\n",
    "                          'agency_region__0',\n",
    "                          'agency_region__1',\n",
    "                          'agency_region__2',\n",
    "                          'agency_region__3',\n",
    "                          'agency_region__4',\n",
    "                          'agency_region__5',\n",
    "                          'agency_region__6',\n",
    "                          'agency_region__7',\n",
    "                          'agency_region__8',\n",
    "                          'agency_region__9',\n",
    "                         'agency_region__10',\n",
    "                         'agency_region__11',\n",
    "                         'agency_region__12',\n",
    "                  'merchant_departement__99',\n",
    "            'merchant_departement__AMAZONAS',\n",
    "              'merchant_departement__ANCASH',\n",
    "            'merchant_departement__APURIMAC',\n",
    "            'merchant_departement__AREQUIPA',\n",
    "            'merchant_departement__AYACUCHO',\n",
    "           'merchant_departement__CAJAMARCA',\n",
    "              'merchant_departement__CALLAO',\n",
    "               'merchant_departement__CUSCO',\n",
    "        'merchant_departement__HUANCAVELICA',\n",
    "             'merchant_departement__HUÁNUCO',\n",
    "                 'merchant_departement__ICA',\n",
    "               'merchant_departement__JUNIN',\n",
    "         'merchant_departement__LA LIBERTAD',\n",
    "          'merchant_departement__LAMBAYEQUE',\n",
    "                'merchant_departement__LIMA',\n",
    "              'merchant_departement__LORETO',\n",
    "       'merchant_departement__MADRE DE DIOS',\n",
    "            'merchant_departement__MOQUEGUA',\n",
    "               'merchant_departement__PASCO',\n",
    "               'merchant_departement__PIURA',\n",
    "                'merchant_departement__PUNO',\n",
    "          'merchant_departement__SAN MARTIN',\n",
    "               'merchant_departement__TACNA',\n",
    "              'merchant_departement__TUMBES',\n",
    "             'merchant_departement__UCAYALI',\n",
    "                              'social_class']\n",
    "              "
   ]
  },
  {
   "cell_type": "code",
   "execution_count": 3,
   "metadata": {},
   "outputs": [],
   "source": [
    "#read dataset\n",
    "df = pd.read_csv('../data_output/balanced.csv',header=None,names=dataset_feature_names)\n",
    "y=np.asarray(df['social_class'])\n",
    "X=np.asarray(df.iloc[:,0:-1])"
   ]
  },
  {
   "cell_type": "code",
   "execution_count": 4,
   "metadata": {},
   "outputs": [
    {
     "data": {
      "text/plain": [
       "(1000000, 46)"
      ]
     },
     "execution_count": 4,
     "metadata": {},
     "output_type": "execute_result"
    }
   ],
   "source": [
    "X.shape"
   ]
  },
  {
   "cell_type": "markdown",
   "metadata": {},
   "source": [
    "# Decision Tree Classifier"
   ]
  },
  {
   "cell_type": "markdown",
   "metadata": {},
   "source": [
    "## Cross validation"
   ]
  },
  {
   "cell_type": "code",
   "execution_count": 109,
   "metadata": {},
   "outputs": [
    {
     "name": "stdout",
     "output_type": "stream",
     "text": [
      "[(3, 0.6083280000000001), (4, 0.624479), (5, 0.6181620000000001), (6, 0.654962), (7, 0.6411469999999999), (8, 0.652863), (9, 0.651248), (10, 0.6513880000000001), (11, 0.65045), (12, 0.6516569999999999), (13, 0.652182), (14, 0.651119), (15, 0.653029), (16, 0.6552749999999999), (17, 0.6578109999999999), (18, 0.65851), (19, 0.6620809999999999)]\n"
     ]
    }
   ],
   "source": [
    "depth = []\n",
    "for i in range(3,20):\n",
    "    for j in range(3,40):\n",
    "        clf = tree.DecisionTreeClassifier(max_depth=i,min_samples_split=j,class_weight='balanced')\n",
    "        # Perform 10-fold cross validation \n",
    "        scores = cross_val_score(estimator=clf, X=X, y=y, cv=10, n_jobs=4)\n",
    "        depth.append((i,j,scores.mean()))\n",
    "print(depth)\n",
    "#0.6875579999999999"
   ]
  },
  {
   "cell_type": "markdown",
   "metadata": {},
   "source": [
    "## Grid Search"
   ]
  },
  {
   "cell_type": "code",
   "execution_count": 5,
   "metadata": {},
   "outputs": [
    {
     "name": "stdout",
     "output_type": "stream",
     "text": [
      "0.97722 {'max_depth': None}\n"
     ]
    }
   ],
   "source": [
    "#parameters = {'max_depth':range(3,20),'min_samples_split':range(3,40)}\n",
    "parameters = {'max_depth':[None]}\n",
    "clf = GridSearchCV(tree.DecisionTreeClassifier(class_weight='balanced'), parameters, n_jobs=-1)\n",
    "clf.fit(X, y)\n",
    "tree_model = clf.best_estimator_\n",
    "print (clf.best_score_, clf.best_params_) \n",
    "#0.663721"
   ]
  },
  {
   "cell_type": "code",
   "execution_count": 6,
   "metadata": {},
   "outputs": [
    {
     "data": {
      "text/plain": [
       "(array([0, 1]), array([500000, 500000]))"
      ]
     },
     "execution_count": 6,
     "metadata": {},
     "output_type": "execute_result"
    }
   ],
   "source": [
    "import numpy as np\n",
    "np.unique(y,return_counts=True)"
   ]
  },
  {
   "cell_type": "code",
   "execution_count": 18,
   "metadata": {},
   "outputs": [],
   "source": [
    "from io import StringIO\n",
    "out = StringIO()\n",
    "out = tree.export_graphviz(tree_model, out_file=out)"
   ]
  },
  {
   "cell_type": "code",
   "execution_count": 21,
   "metadata": {},
   "outputs": [],
   "source": [
    "out"
   ]
  },
  {
   "cell_type": "code",
   "execution_count": null,
   "metadata": {},
   "outputs": [],
   "source": [
    "clf.predict()"
   ]
  }
 ],
 "metadata": {
  "kernelspec": {
   "display_name": "onlineHT",
   "language": "python",
   "name": "onlineht"
  },
  "language_info": {
   "codemirror_mode": {
    "name": "ipython",
    "version": 3
   },
   "file_extension": ".py",
   "mimetype": "text/x-python",
   "name": "python",
   "nbconvert_exporter": "python",
   "pygments_lexer": "ipython3",
   "version": "3.6.10"
  }
 },
 "nbformat": 4,
 "nbformat_minor": 2
}
