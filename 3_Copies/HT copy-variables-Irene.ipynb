{
 "cells": [
  {
   "cell_type": "markdown",
   "metadata": {},
   "source": [
    "## Este notebook funciona con los datos v6 (7 variables) y con el HT de Irene\n"
   ]
  },
  {
   "cell_type": "code",
   "execution_count": 5,
   "metadata": {},
   "outputs": [
    {
     "name": "stdout",
     "output_type": "stream",
     "text": [
      "/Users/irene/Documents/Projects/dual/scripts/methods/\n",
      "/opt/anaconda3/envs/skmultiflow_dev/lib/python36.zip\n",
      "/opt/anaconda3/envs/skmultiflow_dev/lib/python3.6\n",
      "/opt/anaconda3/envs/skmultiflow_dev/lib/python3.6/lib-dynload\n",
      "\n",
      "/Users/MiguelNunez/.local/lib/python3.6/site-packages\n",
      "/opt/anaconda3/envs/skmultiflow_dev/lib/python3.6/site-packages\n",
      "/opt/anaconda3/envs/skmultiflow_dev/lib/python3.6/site-packages/aeosa\n",
      "/opt/anaconda3/envs/skmultiflow_dev/lib/python3.6/site-packages/scikit_multiflow-0.5.dev0-py3.6-macosx-10.9-x86_64.egg\n",
      "/opt/anaconda3/envs/skmultiflow_dev/lib/python3.6/site-packages/IPython/extensions\n",
      "/Users/MiguelNunez/.ipython\n"
     ]
    }
   ],
   "source": [
    "import sys\n",
    "import requests\n",
    "import inspect\n",
    "import pandas as pd\n",
    "import random\n",
    "import csv\n",
    "import numpy as np\n",
    "import os\n",
    "from methods import HoeffdingTree\n",
    "from sklearn.metrics import confusion_matrix\n",
    "print ('\\n'.join(sys.path))"
   ]
  },
  {
   "cell_type": "markdown",
   "metadata": {},
   "source": [
    "## Dynamic windows"
   ]
  },
  {
   "cell_type": "code",
   "execution_count": 6,
   "metadata": {},
   "outputs": [],
   "source": [
    "def checkRate(y):\n",
    "    rate = -1\n",
    "    count = np.unique(y,return_counts=True)\n",
    "    #print(\"y\",y)\n",
    "    #print(\"count\",count)\n",
    "    #print(\"count len\",len(count[0]) )\n",
    "    if (len(count) >= 1):\n",
    "        if (len(count[0]) == 1):\n",
    "            classall   = count[0]\n",
    "            classA     = classall[0]\n",
    "            classB     = 0\n",
    "            classCount = count[1]\n",
    "            classCountA= classCount[0]\n",
    "            classCountB= 0\n",
    "        else:\n",
    "            classall   = count[0]\n",
    "            classA     = classall[0]\n",
    "            classB     = classall[1]\n",
    "            classCount = count[1]\n",
    "            classCountA= classCount[0]\n",
    "            classCountB= classCount[1]\n",
    "            \n",
    "        if (classCountA<classCountB): # classCountA Minoritary class\n",
    "            rate = float(classCountA/(classCountA+classCountB))\n",
    "        else: # classCountB Minoritary class\n",
    "            rate = float(classCountB/(classCountA+classCountB))\n",
    "    \n",
    "    return rate"
   ]
  },
  {
   "cell_type": "code",
   "execution_count": 7,
   "metadata": {},
   "outputs": [],
   "source": [
    "def computeMetrics (confusionMatrix):\n",
    "    tn, fp, fn, tp = confusionMatrix.ravel()\n",
    "    precision = tp/(tp+fp)\n",
    "    recall    = tp/(tp+fn)\n",
    "    return precision,recall"
   ]
  },
  {
   "cell_type": "code",
   "execution_count": 8,
   "metadata": {},
   "outputs": [
    {
     "name": "stdout",
     "output_type": "stream",
     "text": [
      "Rows processed: 10000\n",
      "Model False\n"
     ]
    },
    {
     "ename": "KeyboardInterrupt",
     "evalue": "",
     "output_type": "error",
     "traceback": [
      "\u001b[0;31m---------------------------------------------------------------------------\u001b[0m",
      "\u001b[0;31mKeyboardInterrupt\u001b[0m                         Traceback (most recent call last)",
      "\u001b[0;32m<ipython-input-8-52cc19433237>\u001b[0m in \u001b[0;36m<module>\u001b[0;34m\u001b[0m\n\u001b[1;32m     52\u001b[0m             \u001b[0;32melse\u001b[0m\u001b[0;34m:\u001b[0m\u001b[0;34m\u001b[0m\u001b[0;34m\u001b[0m\u001b[0m\n\u001b[1;32m     53\u001b[0m                 \u001b[0mprint\u001b[0m\u001b[0;34m(\u001b[0m\u001b[0;34m\"Model False\"\u001b[0m\u001b[0;34m)\u001b[0m\u001b[0;34m\u001b[0m\u001b[0;34m\u001b[0m\u001b[0m\n\u001b[0;32m---> 54\u001b[0;31m                 \u001b[0mcfiers\u001b[0m\u001b[0;34m.\u001b[0m\u001b[0mfit\u001b[0m\u001b[0;34m(\u001b[0m\u001b[0mX\u001b[0m\u001b[0;34m,\u001b[0m\u001b[0my\u001b[0m\u001b[0;34m)\u001b[0m\u001b[0;34m\u001b[0m\u001b[0;34m\u001b[0m\u001b[0m\n\u001b[0m\u001b[1;32m     55\u001b[0m                 \u001b[0maux_cfiers\u001b[0m \u001b[0;34m=\u001b[0m \u001b[0mcfiers\u001b[0m\u001b[0;34m\u001b[0m\u001b[0;34m\u001b[0m\u001b[0m\n\u001b[1;32m     56\u001b[0m                 \u001b[0mmodels\u001b[0m \u001b[0;34m=\u001b[0m \u001b[0;32mTrue\u001b[0m\u001b[0;34m\u001b[0m\u001b[0;34m\u001b[0m\u001b[0m\n",
      "\u001b[0;32m~/chanchan/streamcopies/3_Copies/methods.py\u001b[0m in \u001b[0;36mfit\u001b[0;34m(self, X, y)\u001b[0m\n\u001b[1;32m     94\u001b[0m         \"\"\"\n\u001b[1;32m     95\u001b[0m \u001b[0;34m\u001b[0m\u001b[0m\n\u001b[0;32m---> 96\u001b[0;31m         \u001b[0msuper\u001b[0m\u001b[0;34m(\u001b[0m\u001b[0mHoeffdingTree\u001b[0m\u001b[0;34m,\u001b[0m \u001b[0mself\u001b[0m\u001b[0;34m)\u001b[0m\u001b[0;34m.\u001b[0m\u001b[0mfit\u001b[0m\u001b[0;34m(\u001b[0m\u001b[0mX\u001b[0m\u001b[0;34m,\u001b[0m \u001b[0my\u001b[0m\u001b[0;34m)\u001b[0m\u001b[0;34m\u001b[0m\u001b[0;34m\u001b[0m\u001b[0m\n\u001b[0m\u001b[1;32m     97\u001b[0m \u001b[0;34m\u001b[0m\u001b[0m\n\u001b[1;32m     98\u001b[0m         \u001b[0;32mreturn\u001b[0m \u001b[0mself\u001b[0m\u001b[0;34m\u001b[0m\u001b[0;34m\u001b[0m\u001b[0m\n",
      "\u001b[0;32m~/chanchan/streamcopies/3_Copies/base_HoeffdingTree.py\u001b[0m in \u001b[0;36mfit\u001b[0;34m(self, X, y, sample_weight)\u001b[0m\n\u001b[1;32m    167\u001b[0m                     \u001b[0;32mfor\u001b[0m \u001b[0mi\u001b[0m \u001b[0;32min\u001b[0m \u001b[0mrange\u001b[0m\u001b[0;34m(\u001b[0m\u001b[0mn_samples\u001b[0m\u001b[0;34m)\u001b[0m\u001b[0;34m:\u001b[0m\u001b[0;34m\u001b[0m\u001b[0;34m\u001b[0m\u001b[0m\n\u001b[1;32m    168\u001b[0m                         \u001b[0;32mif\u001b[0m \u001b[0msample_weight\u001b[0m\u001b[0;34m[\u001b[0m\u001b[0mi\u001b[0m\u001b[0;34m]\u001b[0m \u001b[0;34m!=\u001b[0m \u001b[0;36m0.0\u001b[0m\u001b[0;34m:\u001b[0m\u001b[0;34m\u001b[0m\u001b[0;34m\u001b[0m\u001b[0m\n\u001b[0;32m--> 169\u001b[0;31m                             \u001b[0mself\u001b[0m\u001b[0;34m.\u001b[0m\u001b[0m_partial_fit\u001b[0m\u001b[0;34m(\u001b[0m\u001b[0mX\u001b[0m\u001b[0;34m[\u001b[0m\u001b[0mi\u001b[0m\u001b[0;34m]\u001b[0m\u001b[0;34m,\u001b[0m \u001b[0my\u001b[0m\u001b[0;34m[\u001b[0m\u001b[0mi\u001b[0m\u001b[0;34m]\u001b[0m\u001b[0;34m,\u001b[0m \u001b[0msample_weight\u001b[0m\u001b[0;34m[\u001b[0m\u001b[0mi\u001b[0m\u001b[0;34m]\u001b[0m\u001b[0;34m)\u001b[0m\u001b[0;34m\u001b[0m\u001b[0;34m\u001b[0m\u001b[0m\n\u001b[0m\u001b[1;32m    170\u001b[0m \u001b[0;34m\u001b[0m\u001b[0m\n\u001b[1;32m    171\u001b[0m         \u001b[0mself\u001b[0m\u001b[0;34m.\u001b[0m\u001b[0m_flush\u001b[0m\u001b[0;34m(\u001b[0m\u001b[0;34m)\u001b[0m\u001b[0;34m\u001b[0m\u001b[0;34m\u001b[0m\u001b[0m\n",
      "\u001b[0;32m~/chanchan/streamcopies/3_Copies/base_HoeffdingTree.py\u001b[0m in \u001b[0;36m_partial_fit\u001b[0;34m(self, X, y, sample_weight)\u001b[0m\n\u001b[1;32m    203\u001b[0m         \u001b[0;32melif\u001b[0m \u001b[0mnode\u001b[0m\u001b[0;34m.\u001b[0m\u001b[0m_check_split\u001b[0m\u001b[0;34m(\u001b[0m\u001b[0mself\u001b[0m\u001b[0;34m.\u001b[0m\u001b[0mmin_samples_split_\u001b[0m\u001b[0;34m)\u001b[0m\u001b[0;34m:\u001b[0m\u001b[0;34m\u001b[0m\u001b[0;34m\u001b[0m\u001b[0m\n\u001b[1;32m    204\u001b[0m             \u001b[0;31m#self.tree_.extend(node._split(self.split_function_))\u001b[0m\u001b[0;34m\u001b[0m\u001b[0;34m\u001b[0m\u001b[0;34m\u001b[0m\u001b[0m\n\u001b[0;32m--> 205\u001b[0;31m             \u001b[0midx\u001b[0m\u001b[0;34m,\u001b[0m \u001b[0mthr\u001b[0m \u001b[0;34m=\u001b[0m \u001b[0mself\u001b[0m\u001b[0;34m.\u001b[0m\u001b[0m_best_split\u001b[0m\u001b[0;34m(\u001b[0m\u001b[0mnode\u001b[0m\u001b[0;34m.\u001b[0m\u001b[0mX\u001b[0m\u001b[0;34m,\u001b[0m \u001b[0mnode\u001b[0m\u001b[0;34m.\u001b[0m\u001b[0my\u001b[0m\u001b[0;34m)\u001b[0m\u001b[0;34m\u001b[0m\u001b[0;34m\u001b[0m\u001b[0m\n\u001b[0m\u001b[1;32m    206\u001b[0m             \u001b[0;31m#idx, thr = fast.best_split(node.X.astype('float'), node.y.astype('float'), self.n_classes_, self.n_features)\u001b[0m\u001b[0;34m\u001b[0m\u001b[0;34m\u001b[0m\u001b[0;34m\u001b[0m\u001b[0m\n\u001b[1;32m    207\u001b[0m             \u001b[0;32mif\u001b[0m \u001b[0midx\u001b[0m \u001b[0;34m==\u001b[0m \u001b[0;32mNone\u001b[0m\u001b[0;34m:\u001b[0m\u001b[0;34m\u001b[0m\u001b[0;34m\u001b[0m\u001b[0m\n",
      "\u001b[0;32m~/chanchan/streamcopies/3_Copies/base_HoeffdingTree.py\u001b[0m in \u001b[0;36m_best_split\u001b[0;34m(self, X, y)\u001b[0m\n\u001b[1;32m    274\u001b[0m                 \u001b[0;31m#gini_right = 1.0 - sum((num_right[x] / (m - i)) ** 2 for x in range(self.n_classes_))\u001b[0m\u001b[0;34m\u001b[0m\u001b[0;34m\u001b[0m\u001b[0;34m\u001b[0m\u001b[0m\n\u001b[1;32m    275\u001b[0m                 \u001b[0mmisclassification_left\u001b[0m \u001b[0;34m=\u001b[0m \u001b[0;36m1.0\u001b[0m \u001b[0;34m-\u001b[0m \u001b[0msum\u001b[0m\u001b[0;34m(\u001b[0m\u001b[0;34m(\u001b[0m\u001b[0mn\u001b[0m \u001b[0;34m/\u001b[0m \u001b[0mi\u001b[0m\u001b[0;34m)\u001b[0m \u001b[0;32mfor\u001b[0m \u001b[0mn\u001b[0m \u001b[0;32min\u001b[0m \u001b[0mnum_left\u001b[0m \u001b[0;32mif\u001b[0m \u001b[0mn\u001b[0m \u001b[0;34m!=\u001b[0m \u001b[0mmax\u001b[0m\u001b[0;34m(\u001b[0m\u001b[0mnum_left\u001b[0m\u001b[0;34m)\u001b[0m\u001b[0;34m)\u001b[0m\u001b[0;34m\u001b[0m\u001b[0;34m\u001b[0m\u001b[0m\n\u001b[0;32m--> 276\u001b[0;31m                 \u001b[0mmisclassification_right\u001b[0m \u001b[0;34m=\u001b[0m \u001b[0;36m1.0\u001b[0m \u001b[0;34m-\u001b[0m \u001b[0msum\u001b[0m\u001b[0;34m(\u001b[0m\u001b[0;34m(\u001b[0m\u001b[0mn\u001b[0m \u001b[0;34m/\u001b[0m \u001b[0;34m(\u001b[0m\u001b[0mm\u001b[0m\u001b[0;34m-\u001b[0m\u001b[0mi\u001b[0m\u001b[0;34m)\u001b[0m\u001b[0;34m)\u001b[0m \u001b[0;32mfor\u001b[0m \u001b[0mn\u001b[0m \u001b[0;32min\u001b[0m \u001b[0mnum_right\u001b[0m \u001b[0;32mif\u001b[0m \u001b[0mn\u001b[0m \u001b[0;34m!=\u001b[0m \u001b[0mmax\u001b[0m\u001b[0;34m(\u001b[0m\u001b[0mnum_right\u001b[0m\u001b[0;34m)\u001b[0m\u001b[0;34m)\u001b[0m\u001b[0;34m\u001b[0m\u001b[0;34m\u001b[0m\u001b[0m\n\u001b[0m\u001b[1;32m    277\u001b[0m \u001b[0;34m\u001b[0m\u001b[0m\n\u001b[1;32m    278\u001b[0m                 \u001b[0;31m# The Gini impurity of a split is the weighted average of the Gini\u001b[0m\u001b[0;34m\u001b[0m\u001b[0;34m\u001b[0m\u001b[0;34m\u001b[0m\u001b[0m\n",
      "\u001b[0;31mKeyboardInterrupt\u001b[0m: "
     ]
    }
   ],
   "source": [
    "models = False\n",
    "aux_cfiers = None\n",
    "numrows = 0\n",
    "f= open(\"metrics_hti_baseline.csv\",\"w+\")\n",
    "minorityClassRate = 0.12\n",
    "min_windows_size = 10000\n",
    "X_ = []\n",
    "y_ = []\n",
    "i = 0\n",
    "cfiers = HoeffdingTree(split_criterion=\"mean\")\n",
    "\n",
    "f.write(\"size_win,precision0,recall0,precision1,recall1\\n\")\n",
    "with open(\"../data_output/export_dataframe_0v6.csv\") as infile:\n",
    "    for line in infile:\n",
    "        numrows += 1\n",
    "        aux_list= (line.split(\",\"))\n",
    "        #print (\"aux_list\",aux_list)\n",
    "        aux_y = int(aux_list.pop())\n",
    "        aux_x = np.array(aux_list.copy(),dtype=np.float32) \n",
    "        y_.append(aux_y)        \n",
    "        X_.append(aux_x)\n",
    "        i += 1\n",
    "        #print (\"y_\",y_)\n",
    "        #print (\"checkRate(y_) {} >= {} minorityClassRate: {}\".format( checkRate(y_),  minorityClassRate, (checkRate(y_) >= minorityClassRate)))\n",
    "        if ( (checkRate(y_) >= minorityClassRate) and len(y_)>=min_windows_size ):\n",
    "            print (\"Rows processed: {}\".format(numrows))\n",
    "            \n",
    "            X = np.asarray(X_).copy()\n",
    "            y = np.asarray(y_).copy()\n",
    "            \n",
    "            # Fit HT models\n",
    "            if (models):\n",
    "                print(\"Model true\")\n",
    "                yPred = aux_cfiers.predict(X)\n",
    "                cm0 = confusion_matrix(y,yPred)\n",
    "                p0,r0 = computeMetrics(cm0)\n",
    "                \n",
    "                \n",
    "                tn, fp, fn, tp = cm0.ravel()\n",
    "                print(\"{},{},{},{},{},{},{},{}\\n\".format(i,p0,r0,str(np.unique(yPred,return_counts=True)),tn, fp, fn, tp ))\n",
    "                f.write(\"{},{},{},{},{},{},{},{}\\n\".format(i,p0,r0,str(np.unique(yPred,return_counts=True)),tn, fp, fn, tp ))\n",
    "                f.flush()\n",
    "                \n",
    "                cfiers.fit(X,y)\n",
    "                aux_cfiers = cfiers\n",
    "                \n",
    "                i = 0\n",
    "                X = None\n",
    "                y = None\n",
    "                X_ = []\n",
    "                y_ = []\n",
    "            else:\n",
    "                print(\"Model False\")\n",
    "                cfiers.fit(X,y)\n",
    "                aux_cfiers = cfiers\n",
    "                models = True\n",
    "                i = 0\n",
    "                X = None\n",
    "                y = None\n",
    "                X_ = []\n",
    "                y_ = []\n",
    "            \n",
    "    X = np.asarray(X_).copy()\n",
    "    y = np.asarray(y_).copy()\n",
    "    \n",
    "    yPred = aux_cfiers.predict(X)\n",
    "    cm0 = confusion_matrix(y,yPred)\n",
    "    p0,r0 = computeMetrics(cm0)\n",
    "\n",
    "\n",
    "    tn, fp, fn, tp = cm0.ravel()\n",
    "    print(\"{},{},{},{},{},{},{},{}\\n\".format(i,p0,r0,str(np.unique(yPred,return_counts=True)),tn, fp, fn, tp ))\n",
    "    f.write(\"{},{},{},{},{},{},{},{}\\n\".format(i,p0,r0,str(np.unique(yPred,return_counts=True)),tn, fp, fn, tp ))\n",
    "    f.flush()\n",
    "    i = 0\n",
    "    X = None\n",
    "    y = None\n",
    "    X_ = []\n",
    "    y_ = []\n",
    "    f.write(\"Total rows processed: {}\".format(numrows))"
   ]
  },
  {
   "cell_type": "code",
   "execution_count": null,
   "metadata": {},
   "outputs": [],
   "source": []
  },
  {
   "cell_type": "code",
   "execution_count": null,
   "metadata": {},
   "outputs": [],
   "source": []
  },
  {
   "cell_type": "code",
   "execution_count": null,
   "metadata": {},
   "outputs": [],
   "source": []
  }
 ],
 "metadata": {
  "kernelspec": {
   "display_name": "skmultiflow_dev",
   "language": "python",
   "name": "skmultiflow_dev"
  },
  "language_info": {
   "codemirror_mode": {
    "name": "ipython",
    "version": 3
   },
   "file_extension": ".py",
   "mimetype": "text/x-python",
   "name": "python",
   "nbconvert_exporter": "python",
   "pygments_lexer": "ipython3",
   "version": "3.6.10"
  }
 },
 "nbformat": 4,
 "nbformat_minor": 2
}
