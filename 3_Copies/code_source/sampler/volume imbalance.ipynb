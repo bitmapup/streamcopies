{
 "cells": [
  {
   "cell_type": "code",
   "execution_count": 3,
   "metadata": {
    "ExecuteTime": {
     "end_time": "2019-12-16T11:10:55.825504Z",
     "start_time": "2019-12-16T11:10:54.655127Z"
    }
   },
   "outputs": [],
   "source": [
    "%matplotlib inline\n",
    "from sklearn.datasets import make_blobs, make_gaussian_quantiles\n",
    "import matplotlib.pyplot as plt\n",
    "from matplotlib.colors import ListedColormap\n",
    "from sklearn.preprocessing import StandardScaler\n",
    "from sklearn.gaussian_process.kernels import RBF\n",
    "from sklearn.svm import SVC\n",
    "from sklearn.tree import DecisionTreeClassifier\n",
    "import numpy as np\n",
    "from sklearn.model_selection import train_test_split\n",
    "from sklearn.datasets import make_moons, make_circles\n",
    "from sklearn.gaussian_process import GaussianProcessClassifier\n",
    "from sklearn.ensemble import RandomForestClassifier\n",
    "\n",
    "blue_1 = '#004481'\n",
    "blue_2 = '#004481'\n",
    "blue_3 = '#1973B8'\n",
    "blue_4 = '#5BBEFF'\n",
    "\n",
    "red_1 = '#B92A45'\n",
    "red_2 = '#C0475E'\n",
    "red_3 = '#DA3851'\n",
    "red_4 = '#E77D8E'\n",
    "\n",
    "cmap_cool = ListedColormap([blue_1, blue_3, blue_4], name='from_list', N=None)\n",
    "#cmap_warm = ListedColormap([red_1, red_3, red_4], name='from_list', N=None)\n",
    "#cmap_cool = ListedColormap([blue_1, blue_4], name='from_list', N=None)\n",
    "cmap_warm = ListedColormap([red_1, red_4], name='from_list', N=None)\n",
    "\n",
    "\n",
    "cmap = ListedColormap(['#004279','#49A5E6', '#B92A45'], name='from_list', N=None)"
   ]
  },
  {
   "cell_type": "code",
   "execution_count": 5,
   "metadata": {
    "ExecuteTime": {
     "end_time": "2019-12-16T11:11:07.215443Z",
     "start_time": "2019-12-16T11:11:05.622799Z"
    }
   },
   "outputs": [
    {
     "name": "stderr",
     "output_type": "stream",
     "text": [
      "/opt/anaconda3/envs/onlineHT/lib/python3.6/site-packages/sklearn/gaussian_process/_gpc.py:451: ConvergenceWarning: lbfgs failed to converge (status=2):\n",
      "ABNORMAL_TERMINATION_IN_LNSRCH.\n",
      "\n",
      "Increase the number of iterations (max_iter) or scale the data as shown in:\n",
      "    https://scikit-learn.org/stable/modules/preprocessing.html\n",
      "  _check_optimize_result(\"lbfgs\", opt_res)\n"
     ]
    },
    {
     "data": {
      "text/plain": [
       "[]"
      ]
     },
     "execution_count": 5,
     "metadata": {},
     "output_type": "execute_result"
    },
    {
     "data": {
      "image/png": "[encoded data removed]",
      "text/plain": [
       "<Figure size 144x144 with 1 Axes>"
      ]
     },
     "metadata": {},
     "output_type": "display_data"
    },
    {
     "data": {
      "image/png": "[encoded data removed]",
      "text/plain": [
       "<Figure size 144x144 with 1 Axes>"
      ]
     },
     "metadata": {},
     "output_type": "display_data"
    }
   ],
   "source": [
    "# Dataset\n",
    "#X, y = make_gaussian_quantiles(mean=(0,1), cov=10.0, \n",
    "#                               n_samples=100, n_features=2, \n",
    "#                               n_classes=3, shuffle=True, random_state=42)\n",
    "X_a, y_a = make_blobs(n_samples=100, n_features=2, centers=1, cluster_std=[0.1], center_box=(240.0, 80.0), shuffle=True, random_state=42)\n",
    "X_b, y_b = make_blobs(n_samples=100, n_features=2, centers=1, cluster_std=[200], center_box=(-80.0, -60.0), shuffle=True, random_state=42)\n",
    "#X_c, y_c = make_blobs(n_samples=100, n_features=2, centers=1, cluster_std=[20], shuffle=True, random_state=42)\n",
    "\n",
    "X = np.append(X_a, X_b, axis=0)\n",
    "#X = np.append(X_a, np.append(X_b, X_c, axis=0), axis=0)\n",
    "y_b[y_b==0] = 1\n",
    "#y_c[y_c==0] = 2\n",
    "#y = np.append(y_a, np.append(y_b, y_c))\n",
    "y = np.append(y_a, y_b)\n",
    "\n",
    "\n",
    "scaler = StandardScaler()\n",
    "X = scaler.fit_transform(X)\n",
    "\n",
    "x_min, x_max = X[:, 0].min() - 0.5, X[:, 0].max() + 0.5\n",
    "y_min, y_max = X[:, 1].min() - 0.5, X[:, 1].max() + 0.5\n",
    "\n",
    "fig = plt.figure(figsize=(2,2))\n",
    "ax = fig.add_subplot(111)\n",
    "ax.scatter(X[:,0], X[:,1], s=10, c=y, cmap=cmap_cool)\n",
    "\n",
    "ax.set_xlim([x_min,x_max])\n",
    "ax.set_ylim([y_min,y_max])\n",
    "ax.set_xticks([])\n",
    "ax.set_yticks([])\n",
    "\n",
    "#plt.savefig('trainingdata.pdf', bbox_inches = 'tight')\n",
    "#plt.savefig('trainingdata.eps', bbox_inches = 'tight')\n",
    "\n",
    "# Model\n",
    "\n",
    "clf = GaussianProcessClassifier(10.0 * RBF(100.0))\n",
    "#clf = SVC(kernel='rbf', gamma=1, C=1)\n",
    "#clf = DecisionTreeClassifier()\n",
    "#clf = RandomForestClassifier()\n",
    "clf.fit(X,y)\n",
    "\n",
    "h=.05\n",
    "#x_min, x_max = -20, 20\n",
    "#y_min, y_max = -20, 20\n",
    "xx, yy = np.meshgrid(np.arange(x_min, x_max, h),\n",
    "                     np.arange(y_min, y_max, h))\n",
    "Z = clf.predict(np.c_[xx.ravel(), yy.ravel()])\n",
    "\n",
    "# Put the result into a color plot\n",
    "Z = Z.reshape(xx.shape)\n",
    "\n",
    "fig = plt.figure(figsize=(2,2))\n",
    "ax = fig.add_subplot(111)\n",
    "ax.contourf(xx, yy, Z, cmap=cmap_cool, alpha=1)\n",
    "\n",
    "ax.set_xlim([x_min,x_max])\n",
    "ax.set_ylim([y_min,y_max])\n",
    "ax.set_xticks([])\n",
    "ax.set_yticks([])\n",
    "\n",
    "#plt.savefig('/Users/irene/Documents/Projects/tpami/results/insights/model.pdf', bbox_inches = 'tight')\n",
    "#plt.savefig('/Users/irene/Documents/Projects/tpami/results/insights/model.eps', bbox_inches = 'tight')"
   ]
  },
  {
   "cell_type": "markdown",
   "metadata": {},
   "source": [
    "### Uniform"
   ]
  },
  {
   "cell_type": "code",
   "execution_count": 4,
   "metadata": {
    "ExecuteTime": {
     "end_time": "2019-11-13T08:35:13.865262Z",
     "start_time": "2019-11-13T08:35:13.527632Z"
    },
    "scrolled": true
   },
   "outputs": [
    {
     "data": {
      "image/png": "[encoded data removed]",
      "text/plain": [
       "<Figure size 295.2x144 with 2 Axes>"
      ]
     },
     "metadata": {},
     "output_type": "display_data"
    }
   ],
   "source": [
    "import numpy as np\n",
    "from sklearn.ensemble import RandomForestClassifier\n",
    "from sklearn.svm import SVC\n",
    "from sklearn.tree import DecisionTreeClassifier\n",
    "\n",
    "n_classes = 2\n",
    "max_queries = 300\n",
    "classes = np.unique(y)\n",
    "n_dim = np.shape(X)[1]\n",
    "\n",
    "for i in range(1):\n",
    "\n",
    "    _min, _max = np.min(X, axis=0), np.max(X, axis=0)\n",
    "    samples = np.random.RandomState(seed=42).uniform(low=_min, high=_max, size=([max_queries,2]))\n",
    "    labels = clf.predict(samples)\n",
    "    \n",
    "    fig = plt.figure(figsize=(4.1,2))\n",
    "    \n",
    "    ax = fig.add_subplot(121)\n",
    "    ax.scatter(samples[:,0], samples[:,1], s=8, c=labels, cmap=cmap_warm)\n",
    "\n",
    "    ax.set_xlim([x_min,x_max])\n",
    "    ax.set_ylim([y_min,y_max])\n",
    "    ax.set_xticks([])\n",
    "    ax.set_yticks([])\n",
    "    \n",
    "    ax = fig.add_subplot(122)\n",
    "    ax.barh(np.unique(labels, return_counts=True)[0], np.unique(labels, return_counts=True)[1], align='center', color = [red_1, red_4] )\n",
    "    ax.axvline(int(max_queries/2), color='black', linewidth=1, linestyle='--')\n",
    "    ax.set_xlim([1,max_queries])\n",
    "    ax.set_xticks([])\n",
    "    ax.set_yticks([])\n",
    "    \n",
    "    plt.subplots_adjust(wspace=0.05)\n",
    "    \n",
    "    \n",
    "    #copy = GaussianProcessClassifier(1.0 * RBF(1.0))\n",
    "    #copy = DecisionTreeClassifier()\n",
    "    #copy = RandomForestClassifier()\n",
    "    #copy.fit(samples, labels)\n",
    "    \n",
    "    #h=.05\n",
    "    #x_min, x_max = X[:, 0].min() - 1, X[:, 0].max() + 1\n",
    "    #y_min, y_max = X[:, 1].min() - 1, X[:, 1].max() + 1\n",
    "    #x_min, x_max = -20, 20\n",
    "    #y_min, y_max = -20, 20\n",
    "    #xx, yy = np.meshgrid(np.arange(x_min, x_max, h),np.arange(y_min, y_max, h))\n",
    "    #Z = copy.predict(np.c_[xx.ravel(), yy.ravel()])\n",
    "\n",
    "    # Put the result into a color plot\n",
    "    #Z = Z.reshape(xx.shape)\n",
    "    \n",
    "    #ax = fig.add_subplot(133)\n",
    "    #ax.contourf(xx, yy, Z, cmap=ListedColormap([red_4], name='from_list', N=None), alpha=1)\n",
    "\n",
    "    #ax.set_xlim([x_min,x_max])\n",
    "    #ax.set_ylim([y_min,y_max])\n",
    "    #ax.set_xticks([])\n",
    "    #ax.set_yticks([])\n",
    "    \n",
    "    plt.savefig('/Users/irene/Documents/Projects/tpami/results/insights/syntheticdata_uniform.pdf', bbox_inches = 'tight')\n",
    "    plt.savefig('/Users/irene/Documents/Projects/tpami/results/insights/syntheticdata_uniform.eps', bbox_inches = 'tight')"
   ]
  },
  {
   "cell_type": "code",
   "execution_count": 5,
   "metadata": {
    "ExecuteTime": {
     "end_time": "2019-11-13T08:35:36.852745Z",
     "start_time": "2019-11-13T08:35:36.547529Z"
    }
   },
   "outputs": [
    {
     "data": {
      "image/png": "[encoded data removed]",
      "text/plain": [
       "<Figure size 295.2x144 with 2 Axes>"
      ]
     },
     "metadata": {},
     "output_type": "display_data"
    }
   ],
   "source": [
    "for i in range(1):\n",
    "\n",
    "    _min, _max = np.min(X, axis=0), np.max(X, axis=0)\n",
    "    X_ = np.random.RandomState(seed=42).uniform(low=_min, high=_max, size=([max_queries,2]))\n",
    "    y_ = clf.predict(X_)\n",
    "    buffer = np.bincount(y_, minlength=n_classes)\n",
    "    \n",
    "    while any(buffer < int(max_queries/n_classes)):\n",
    "        \n",
    "        samples = np.random.uniform(low=_min, high=_max, size=([max_queries,2]))\n",
    "        labels = clf.predict(samples)\n",
    "        \n",
    "        masker = np.isin(labels, classes[buffer < int(max_queries/n_classes)])\n",
    "        samples = samples[masker]\n",
    "        labels = labels[masker]\n",
    "\n",
    "        X_ = np.append(X_, samples, axis=0)\n",
    "        y_ = np.append(y_, labels)\n",
    "\n",
    "        buffer = np.bincount(y_, minlength=n_classes)\n",
    "    \n",
    "    \n",
    "    samples = np.empty((0, n_dim))\n",
    "    for i in classes:\n",
    "        _samples = X_[y_ == i]\n",
    "        samples = np.append(samples, _samples[np.random.choice(_samples.shape[0], int(max_queries/n_classes), replace=False), :], axis=0)\n",
    "    \n",
    "    X_ = samples\n",
    "    y_ = clf.predict(X_)\n",
    "    \n",
    "    fig = plt.figure(figsize=(4.1,2))\n",
    "    \n",
    "    ax = fig.add_subplot(121)\n",
    "    ax.scatter(X_[:,0], X_[:,1], s=8, c=y_, cmap=cmap_warm)\n",
    "\n",
    "    ax.set_xlim([x_min,x_max])\n",
    "    ax.set_ylim([y_min,y_max])\n",
    "    ax.set_xticks([])\n",
    "    ax.set_yticks([])\n",
    "    \n",
    "    ax = fig.add_subplot(122)\n",
    "    ax.barh(np.unique(y_, return_counts=True)[0], np.unique(y_, return_counts=True)[1], align='center', color = [red_1, red_4] )\n",
    "    ax.axvline(int(max_queries/2), color='black', linewidth=1, linestyle='--')\n",
    "    ax.set_xlim([1,max_queries])\n",
    "    ax.set_xticks([])\n",
    "    ax.set_yticks([])\n",
    "    \n",
    "    plt.subplots_adjust(wspace=0.05)\n",
    "    '''\n",
    "    copy = GaussianProcessClassifier(1.0 * RBF(1.0))\n",
    "    #copy = DecisionTreeClassifier()\n",
    "    copy.fit(X_, y_)\n",
    "    \n",
    "    h=.05\n",
    "    #x_min, x_max = X[:, 0].min() - 1, X[:, 0].max() + 1\n",
    "    #y_min, y_max = X[:, 1].min() - 1, X[:, 1].max() + 1\n",
    "    #x_min, x_max = -20, 20\n",
    "    #y_min, y_max = -20, 20\n",
    "    xx, yy = np.meshgrid(np.arange(x_min, x_max, h),\n",
    "                         np.arange(y_min, y_max, h))\n",
    "    Z = copy.predict(np.c_[xx.ravel(), yy.ravel()])\n",
    "\n",
    "    # Put the result into a color plot\n",
    "    Z = Z.reshape(xx.shape)\n",
    "    \n",
    "    ax = fig.add_subplot(133)\n",
    "    ax.contourf(xx, yy, Z, cmap=cmap_warm, alpha=1)\n",
    "\n",
    "    ax.set_xlim([x_min,x_max])\n",
    "    ax.set_ylim([y_min,y_max])\n",
    "    ax.set_xticks([])\n",
    "    ax.set_yticks([])\n",
    "    '''\n",
    "        \n",
    "    plt.savefig('/Users/irene/Documents/Projects/tpami/results/insights/syntheticdata_uniform_b.pdf', bbox_inches = 'tight')\n",
    "    plt.savefig('/Users/irene/Documents/Projects/tpami/results/insights/syntheticdata_uniform_b.eps', bbox_inches = 'tight')\n"
   ]
  },
  {
   "cell_type": "markdown",
   "metadata": {},
   "source": [
    "### Normal"
   ]
  },
  {
   "cell_type": "code",
   "execution_count": 6,
   "metadata": {
    "ExecuteTime": {
     "end_time": "2019-11-13T08:35:55.729579Z",
     "start_time": "2019-11-13T08:35:55.425351Z"
    }
   },
   "outputs": [
    {
     "data": {
      "image/png": "[encoded data removed]",
      "text/plain": [
       "<Figure size 295.2x144 with 2 Axes>"
      ]
     },
     "metadata": {},
     "output_type": "display_data"
    }
   ],
   "source": [
    "for i in range(1):\n",
    "\n",
    "    samples = np.random.RandomState(seed=42).normal(loc=0, scale=1, size=([max_queries,2]))\n",
    "    labels = clf.predict(samples)\n",
    "    \n",
    "    fig = plt.figure(figsize=(4.1,2))\n",
    "    \n",
    "    ax = fig.add_subplot(121)\n",
    "    ax.scatter(samples[:,0], samples[:,1], s=8, c=labels, cmap=cmap_warm)\n",
    "\n",
    "    ax.set_xlim([x_min,x_max])\n",
    "    ax.set_ylim([y_min,y_max])\n",
    "    ax.set_xticks([])\n",
    "    ax.set_yticks([])\n",
    "    \n",
    "    ax = fig.add_subplot(122)\n",
    "    ax.barh(np.unique(labels, return_counts=True)[0], np.unique(labels, return_counts=True)[1], align='center', color = [red_1, red_4] )\n",
    "    ax.axvline(int(max_queries/n_classes), color='black', linewidth=1, linestyle='--')\n",
    "    ax.set_xlim([1,max_queries])\n",
    "    ax.set_xticks([])\n",
    "    ax.set_yticks([])\n",
    "    \n",
    "    plt.subplots_adjust(wspace=0.05)\n",
    "    \n",
    "    '''\n",
    "    copy = GaussianProcessClassifier(1.0 * RBF(1.0))\n",
    "    copy.fit(samples, labels)\n",
    "    \n",
    "    h=.05\n",
    "    #x_min, x_max = X[:, 0].min() - 1, X[:, 0].max() + 1\n",
    "    #y_min, y_max = X[:, 1].min() - 1, X[:, 1].max() + 1\n",
    "    #x_min, x_max = -20, 20\n",
    "    #y_min, y_max = -20, 20\n",
    "    xx, yy = np.meshgrid(np.arange(x_min, x_max, h),\n",
    "                         np.arange(y_min, y_max, h))\n",
    "    Z = copy.predict(np.c_[xx.ravel(), yy.ravel()])\n",
    "\n",
    "    # Put the result into a color plot\n",
    "    Z = Z.reshape(xx.shape)\n",
    "    \n",
    "    ax = fig.add_subplot(133)\n",
    "    ax.contourf(xx, yy, Z, cmap=cmap_warm, alpha=1)\n",
    "\n",
    "    ax.set_xlim([x_min,x_max])\n",
    "    ax.set_ylim([y_min,y_max])\n",
    "    ax.set_xticks([])\n",
    "    ax.set_yticks([])\n",
    "    '''\n",
    "        \n",
    "    plt.savefig('/Users/irene/Documents/Projects/tpami/results/insights/syntheticdata_normal.pdf', bbox_inches = 'tight')\n",
    "    plt.savefig('/Users/irene/Documents/Projects/tpami/results/insights/syntheticdata_normal.eps', bbox_inches = 'tight')\n"
   ]
  },
  {
   "cell_type": "code",
   "execution_count": 7,
   "metadata": {
    "ExecuteTime": {
     "end_time": "2019-11-13T08:36:18.286726Z",
     "start_time": "2019-11-13T08:36:17.980417Z"
    }
   },
   "outputs": [
    {
     "data": {
      "image/png": "[encoded data removed]",
      "text/plain": [
       "<Figure size 295.2x144 with 2 Axes>"
      ]
     },
     "metadata": {},
     "output_type": "display_data"
    }
   ],
   "source": [
    "for i in range(1):\n",
    "\n",
    "    X_ = np.random.RandomState(seed=42).normal(loc=0, scale=1, size=([max_queries,2]))\n",
    "    y_ = clf.predict(X_)\n",
    "    buffer = np.bincount(y_, minlength=n_classes)\n",
    "    \n",
    "    while any(buffer < int(max_queries/n_classes)):\n",
    "        \n",
    "        samples = np.random.normal(loc=0, scale=1, size=([max_queries,2]))\n",
    "        labels = clf.predict(samples)\n",
    "        \n",
    "        masker = np.isin(labels, classes[buffer < int(max_queries/n_classes)])\n",
    "        samples = samples[masker]\n",
    "        labels = labels[masker]\n",
    "\n",
    "        X_ = np.append(X_, samples, axis=0)\n",
    "        y_ = np.append(y_, labels)\n",
    "\n",
    "        buffer = np.bincount(y_, minlength=n_classes)\n",
    "    \n",
    "    \n",
    "    samples = np.empty((0, n_dim))\n",
    "    for i in classes:\n",
    "        _samples = X_[y_ == i]\n",
    "        samples = np.append(samples, _samples[np.random.choice(_samples.shape[0], int(max_queries/n_classes), replace=False), :], axis=0)\n",
    "    \n",
    "    X_ = samples\n",
    "    y_ = clf.predict(X_)\n",
    "    \n",
    "    fig = plt.figure(figsize=(4.1,2))\n",
    "    \n",
    "    ax = fig.add_subplot(121)\n",
    "    ax.scatter(X_[:,0], X_[:,1], s=8, c=y_, cmap=cmap_warm)\n",
    "\n",
    "    ax.set_xlim([x_min,x_max])\n",
    "    ax.set_ylim([y_min,y_max])\n",
    "    ax.set_xticks([])\n",
    "    ax.set_yticks([])\n",
    "    \n",
    "    ax = fig.add_subplot(122)\n",
    "    ax.barh(np.unique(y_, return_counts=True)[0], np.unique(y_, return_counts=True)[1], align='center', color = [red_1, red_4] )\n",
    "    ax.axvline( int(max_queries/n_classes), color='black', linewidth=1, linestyle='--')\n",
    "    ax.set_xlim([1,max_queries])\n",
    "    ax.set_xticks([])\n",
    "    ax.set_yticks([])\n",
    "    \n",
    "    plt.subplots_adjust(wspace=0.05)\n",
    "    \n",
    "    '''\n",
    "    copy = GaussianProcessClassifier(1.0 * RBF(1.0))\n",
    "    copy.fit(X_, y_)\n",
    "    \n",
    "    h=.05\n",
    "    #x_min, x_max = X[:, 0].min() - 1, X[:, 0].max() + 1\n",
    "    #y_min, y_max = X[:, 1].min() - 1, X[:, 1].max() + 1\n",
    "    #x_min, x_max = -20, 20\n",
    "    #y_min, y_max = -20, 20\n",
    "    xx, yy = np.meshgrid(np.arange(x_min, x_max, h),\n",
    "                         np.arange(y_min, y_max, h))\n",
    "    Z = copy.predict(np.c_[xx.ravel(), yy.ravel()])\n",
    "\n",
    "    # Put the result into a color plot\n",
    "    Z = Z.reshape(xx.shape)\n",
    "    \n",
    "    ax = fig.add_subplot(133)\n",
    "    ax.contourf(xx, yy, Z, cmap=cmap_warm, alpha=1)\n",
    "\n",
    "    ax.set_xlim([x_min,x_max])\n",
    "    ax.set_ylim([y_min,y_max])\n",
    "    ax.set_xticks([])\n",
    "    ax.set_yticks([])\n",
    "    '''\n",
    "    plt.savefig('/Users/irene/Documents/Projects/tpami/results/insights/syntheticdata_normal_b.pdf', bbox_inches = 'tight')\n",
    "    plt.savefig('/Users/irene/Documents/Projects/tpami/results/insights/syntheticdata_normal_b.eps', bbox_inches = 'tight')\n",
    "    \n"
   ]
  },
  {
   "cell_type": "code",
   "execution_count": 16,
   "metadata": {
    "ExecuteTime": {
     "end_time": "2019-12-16T11:30:50.295435Z",
     "start_time": "2019-12-16T11:30:49.747068Z"
    }
   },
   "outputs": [
    {
     "data": {
      "image/png": "[encoded data removed]",
      "text/plain": [
       "<Figure size 295.2x338.4 with 4 Axes>"
      ]
     },
     "metadata": {},
     "output_type": "display_data"
    }
   ],
   "source": [
    "import numpy as np\n",
    "from sklearn.ensemble import RandomForestClassifier\n",
    "from sklearn.svm import SVC\n",
    "from sklearn.tree import DecisionTreeClassifier\n",
    "\n",
    "n_classes = 2\n",
    "max_queries = 300\n",
    "classes = np.unique(y)\n",
    "n_dim = np.shape(X)[1]\n",
    "\n",
    "\n",
    "_min, _max = np.min(X, axis=0), np.max(X, axis=0)\n",
    "samples = np.random.RandomState(seed=42).uniform(low=_min, high=_max, size=([max_queries,2]))\n",
    "labels = clf.predict(samples)\n",
    "\n",
    "fig = plt.figure(figsize=(4.1,4.7))\n",
    "\n",
    "ax = fig.add_subplot(221)\n",
    "ax.scatter(samples[:,0], samples[:,1], s=8, c=labels, cmap=cmap_warm)\n",
    "\n",
    "ax.set_xlim([x_min,x_max])\n",
    "ax.set_ylim([y_min,y_max])\n",
    "ax.set_xticks([])\n",
    "ax.set_yticks([])\n",
    "\n",
    "ax = fig.add_subplot(222)\n",
    "ax.barh(np.unique(labels, return_counts=True)[0], np.unique(labels, return_counts=True)[1], align='center', color = [red_1, red_4] )\n",
    "ax.axvline(int(max_queries/2), color='black', linewidth=1, linestyle='--')\n",
    "ax.set_xlim([1,max_queries])\n",
    "ax.set_xticks([])\n",
    "ax.set_yticks([])\n",
    "\n",
    "_min, _max = np.min(X, axis=0), np.max(X, axis=0)\n",
    "X_ = np.random.RandomState(seed=42).uniform(low=_min, high=_max, size=([max_queries,2]))\n",
    "y_ = clf.predict(X_)\n",
    "buffer = np.bincount(y_, minlength=n_classes)\n",
    "\n",
    "while any(buffer < int(max_queries/n_classes)):\n",
    "\n",
    "    samples = np.random.uniform(low=_min, high=_max, size=([max_queries,2]))\n",
    "    labels = clf.predict(samples)\n",
    "\n",
    "    masker = np.isin(labels, classes[buffer < int(max_queries/n_classes)])\n",
    "    samples = samples[masker]\n",
    "    labels = labels[masker]\n",
    "\n",
    "    X_ = np.append(X_, samples, axis=0)\n",
    "    y_ = np.append(y_, labels)\n",
    "\n",
    "    buffer = np.bincount(y_, minlength=n_classes)\n",
    "\n",
    "\n",
    "samples = np.empty((0, n_dim))\n",
    "for i in classes:\n",
    "    _samples = X_[y_ == i]\n",
    "    samples = np.append(samples, _samples[np.random.choice(_samples.shape[0], int(max_queries/n_classes), replace=False), :], axis=0)\n",
    "\n",
    "X_ = samples\n",
    "y_ = clf.predict(X_)\n",
    "\n",
    "ax = fig.add_subplot(223)\n",
    "ax.scatter(X_[:,0], X_[:,1], s=8, c=y_, cmap=cmap_warm)\n",
    "\n",
    "ax.set_xlim([x_min,x_max])\n",
    "ax.set_ylim([y_min,y_max])\n",
    "ax.set_xticks([])\n",
    "ax.set_yticks([])\n",
    "\n",
    "ax = fig.add_subplot(224)\n",
    "ax.barh(np.unique(y_, return_counts=True)[0], np.unique(y_, return_counts=True)[1], align='center', color = [red_1, red_4] )\n",
    "ax.axvline(int(max_queries/2), color='black', linewidth=1, linestyle='--')\n",
    "ax.set_xlim([1,max_queries])\n",
    "ax.set_xticks([])\n",
    "ax.set_yticks([])\n",
    "\n",
    "plt.subplots_adjust(wspace=0.05)\n",
    "plt.subplots_adjust(hspace=0.35)\n",
    "\n",
    "plt.savefig('/Users/irene/Documents/Projects/tpami/results/insights/uncet4c.pdf', bbox_inches = 'tight')\n",
    "plt.savefig('/Users/irene/Documents/Projects/tpami/results/insights/uncet4c.eps', bbox_inches = 'tight')"
   ]
  },
  {
   "cell_type": "code",
   "execution_count": 17,
   "metadata": {
    "ExecuteTime": {
     "end_time": "2019-12-16T11:34:20.123073Z",
     "start_time": "2019-12-16T11:34:19.589624Z"
    }
   },
   "outputs": [
    {
     "data": {
      "image/png": "[encoded data removed]",
      "text/plain": [
       "<Figure size 295.2x338.4 with 4 Axes>"
      ]
     },
     "metadata": {},
     "output_type": "display_data"
    }
   ],
   "source": [
    "samples = np.random.RandomState(seed=42).normal(loc=0, scale=1, size=([max_queries,2]))\n",
    "labels = clf.predict(samples)\n",
    "\n",
    "fig = plt.figure(figsize=(4.1,4.7))\n",
    "\n",
    "ax = fig.add_subplot(221)\n",
    "ax.scatter(samples[:,0], samples[:,1], s=8, c=labels, cmap=cmap_warm)\n",
    "\n",
    "ax.set_xlim([x_min,x_max])\n",
    "ax.set_ylim([y_min,y_max])\n",
    "ax.set_xticks([])\n",
    "ax.set_yticks([])\n",
    "\n",
    "ax = fig.add_subplot(222)\n",
    "ax.barh(np.unique(labels, return_counts=True)[0], np.unique(labels, return_counts=True)[1], align='center', color = [red_1, red_4] )\n",
    "ax.axvline(int(max_queries/n_classes), color='black', linewidth=1, linestyle='--')\n",
    "ax.set_xlim([1,max_queries])\n",
    "ax.set_xticks([])\n",
    "ax.set_yticks([])\n",
    "\n",
    "X_ = np.random.RandomState(seed=42).normal(loc=0, scale=1, size=([max_queries,2]))\n",
    "y_ = clf.predict(X_)\n",
    "buffer = np.bincount(y_, minlength=n_classes)\n",
    "\n",
    "while any(buffer < int(max_queries/n_classes)):\n",
    "\n",
    "    samples = np.random.normal(loc=0, scale=1, size=([max_queries,2]))\n",
    "    labels = clf.predict(samples)\n",
    "\n",
    "    masker = np.isin(labels, classes[buffer < int(max_queries/n_classes)])\n",
    "    samples = samples[masker]\n",
    "    labels = labels[masker]\n",
    "\n",
    "    X_ = np.append(X_, samples, axis=0)\n",
    "    y_ = np.append(y_, labels)\n",
    "\n",
    "    buffer = np.bincount(y_, minlength=n_classes)\n",
    "\n",
    "\n",
    "samples = np.empty((0, n_dim))\n",
    "for i in classes:\n",
    "    _samples = X_[y_ == i]\n",
    "    samples = np.append(samples, _samples[np.random.choice(_samples.shape[0], int(max_queries/n_classes), replace=False), :], axis=0)\n",
    "\n",
    "X_ = samples\n",
    "y_ = clf.predict(X_)\n",
    "\n",
    "ax = fig.add_subplot(223)\n",
    "ax.scatter(X_[:,0], X_[:,1], s=8, c=y_, cmap=cmap_warm)\n",
    "\n",
    "ax.set_xlim([x_min,x_max])\n",
    "ax.set_ylim([y_min,y_max])\n",
    "ax.set_xticks([])\n",
    "ax.set_yticks([])\n",
    "\n",
    "ax = fig.add_subplot(224)\n",
    "ax.barh(np.unique(y_, return_counts=True)[0], np.unique(y_, return_counts=True)[1], align='center', color = [red_1, red_4] )\n",
    "ax.axvline( int(max_queries/n_classes), color='black', linewidth=1, linestyle='--')\n",
    "ax.set_xlim([1,max_queries])\n",
    "ax.set_xticks([])\n",
    "ax.set_yticks([])\n",
    "\n",
    "plt.subplots_adjust(wspace=0.05)\n",
    "plt.subplots_adjust(hspace=0.35)\n",
    "\n",
    "plt.savefig('/Users/irene/Documents/Projects/tpami/results/insights/uncet4d.pdf', bbox_inches = 'tight')\n",
    "plt.savefig('/Users/irene/Documents/Projects/tpami/results/insights/uncet4d.eps', bbox_inches = 'tight')\n",
    "\n"
   ]
  },
  {
   "cell_type": "code",
   "execution_count": null,
   "metadata": {},
   "outputs": [],
   "source": []
  }
 ],
 "metadata": {
  "kernelspec": {
   "display_name": "onlineHT",
   "language": "python",
   "name": "onlineht"
  },
  "language_info": {
   "codemirror_mode": {
    "name": "ipython",
    "version": 3
   },
   "file_extension": ".py",
   "mimetype": "text/x-python",
   "name": "python",
   "nbconvert_exporter": "python",
   "pygments_lexer": "ipython3",
   "version": "3.6.10"
  },
  "toc": {
   "base_numbering": 1,
   "nav_menu": {},
   "number_sections": true,
   "sideBar": true,
   "skip_h1_title": false,
   "title_cell": "Table of Contents",
   "title_sidebar": "Contents",
   "toc_cell": false,
   "toc_position": {},
   "toc_section_display": true,
   "toc_window_display": false
  },
  "varInspector": {
   "cols": {
    "lenName": 16,
    "lenType": 16,
    "lenVar": 40
   },
   "kernels_config": {
    "python": {
     "delete_cmd_postfix": "",
     "delete_cmd_prefix": "del ",
     "library": "var_list.py",
     "varRefreshCmd": "print(var_dic_list())"
    },
    "r": {
     "delete_cmd_postfix": ") ",
     "delete_cmd_prefix": "rm(",
     "library": "var_list.r",
     "varRefreshCmd": "cat(var_dic_list()) "
    }
   },
   "types_to_exclude": [
    "module",
    "function",
    "builtin_function_or_method",
    "instance",
    "_Feature"
   ],
   "window_display": false
  }
 },
 "nbformat": 4,
 "nbformat_minor": 2
}
