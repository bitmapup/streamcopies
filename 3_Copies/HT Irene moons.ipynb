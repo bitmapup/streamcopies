{
 "cells": [
  {
   "cell_type": "code",
   "execution_count": 44,
   "metadata": {},
   "outputs": [
    {
     "name": "stdout",
     "output_type": "stream",
     "text": [
      "/opt/anaconda3/envs/skmultiflow_dev/lib/python3.6/site-packages/scikit_multiflow-0.5.dev0-py3.6-macosx-10.9-x86_64.egg/skmultiflow/trees/hoeffding_tree.py\n"
     ]
    }
   ],
   "source": [
    "import sys\n",
    "import requests\n",
    "import inspect\n",
    "import pandas as pd\n",
    "import random\n",
    "import csv\n",
    "\n",
    "\n",
    "from skmultiflow.trees.hoeffding_tree import HoeffdingTreeClassifier\n",
    "print (inspect.getfile(HoeffdingTreeClassifier))  \n",
    "from skmultiflow.trees.hoeffding_adaptive_tree import HoeffdingAdaptiveTreeClassifier\n",
    "from skmultiflow.data.file_stream import FileStream\n",
    "from skmultiflow.evaluation.evaluate_prequential import EvaluatePrequential\n",
    "import numpy as np\n",
    "import os\n",
    "\n",
    "import matplotlib.pyplot as plt\n",
    "import matplotlib.patches as mpatches\n",
    "import matplotlib.colors as clr\n",
    "import matplotlib.colorbar as clb"
   ]
  },
  {
   "cell_type": "code",
   "execution_count": 45,
   "metadata": {},
   "outputs": [],
   "source": [
    "def compute_y_weight(y):\n",
    "    aux = np.unique(y,return_counts=True)\n",
    "    nb_classes = len(aux[0])\n",
    "    list_classes = aux[0]\n",
    "    count_classes = aux[1]\n",
    "    sum_classes =  float(np.sum(count_classes))\n",
    "    weight_classes = count_classes/sum_classes\n",
    "    y_weights = y.copy()\n",
    "    \n",
    "    i = 0\n",
    "    while i < nb_classes:\n",
    "        \n",
    "        class_i = list_classes[i]\n",
    "        y_weights = np.where(y_weights==float(class_i), weight_classes[i], y_weights) \n",
    "        i += 1\n",
    "    return y_weights"
   ]
  },
  {
   "cell_type": "code",
   "execution_count": 46,
   "metadata": {},
   "outputs": [
    {
     "name": "stdout",
     "output_type": "stream",
     "text": [
      "(array([0, 1]), array([5000, 5000]))\n",
      "HoeffdingTreeClassifier class constructor\n",
      "HoeffdingTreeClassifier class constructor\n",
      "Arbol 1\n"
     ]
    },
    {
     "data": {
      "text/plain": [
       "HoeffdingAdaptiveTreeClassifier(binary_split=False, bootstrap_sampling=True,\n",
       "                                grace_period=200, leaf_prediction='nba',\n",
       "                                max_byte_size=33554432,\n",
       "                                memory_estimate_period=1000000, nb_threshold=0,\n",
       "                                no_preprune=False, nominal_attributes=None,\n",
       "                                remove_poor_atts=False, split_confidence=1e-06,\n",
       "                                split_criterion='gini',\n",
       "                                stop_mem_management=False, tie_threshold=0.05)"
      ]
     },
     "execution_count": 46,
     "metadata": {},
     "output_type": "execute_result"
    }
   ],
   "source": [
    "from sklearn.datasets import make_moons\n",
    "X, y = make_moons(**{'n_samples': 10000, 'noise': 0.2})\n",
    "print (np.unique(y,return_counts=True) )\n",
    "y_weights = compute_y_weight(y)\n",
    "\n",
    "cfiers = [HoeffdingTreeClassifier(split_confidence=1e-6,split_criterion='gini'), \n",
    "          HoeffdingAdaptiveTreeClassifier(split_confidence=1e-6,split_criterion='gini')\n",
    "         ]\n",
    "\n",
    "print(\"Arbol 1\")\n",
    "cfiers[0].partial_fit(X,y,[0,1],y_weights )\n",
    "cfiers[1].partial_fit(X,y,[0,1],y_weights )"
   ]
  },
  {
   "cell_type": "code",
   "execution_count": 47,
   "metadata": {},
   "outputs": [
    {
     "name": "stdout",
     "output_type": "stream",
     "text": [
      "if Attribute 1 <= 0.12093160645142165:\n",
      "  Leaf = Class 1 | {0: 246.45766553909448, 1: 1863.8342359790445}\n",
      "if Attribute 1 > 0.12093160645142165:\n",
      "  Leaf = Class 0 | {0: 2253.5423344609053, 1: 636.1657640209556}\n",
      "\n"
     ]
    }
   ],
   "source": [
    "print (cfiers[0].get_model_description())"
   ]
  },
  {
   "cell_type": "code",
   "execution_count": 48,
   "metadata": {},
   "outputs": [
    {
     "data": {
      "text/plain": [
       "1"
      ]
     },
     "execution_count": 48,
     "metadata": {},
     "output_type": "execute_result"
    }
   ],
   "source": [
    "cfiers[0].measure_tree_depth()"
   ]
  },
  {
   "cell_type": "code",
   "execution_count": 49,
   "metadata": {},
   "outputs": [
    {
     "name": "stdout",
     "output_type": "stream",
     "text": [
      "12755\n"
     ]
    }
   ],
   "source": [
    "print (cfiers[0].measure_byte_size() )"
   ]
  },
  {
   "cell_type": "code",
   "execution_count": 50,
   "metadata": {},
   "outputs": [
    {
     "name": "stdout",
     "output_type": "stream",
     "text": [
      "if Attribute 1 <= 0.22866933025538483:\n",
      "  if Attribute 0 <= -0.5254873234717998:\n",
      "    Leaf = Class 0 | {0: 152.6585711311909}\n",
      "  if Attribute 0 > -0.5254873234717998:\n",
      "    Leaf = Class 1 | {0: 342.3414288688091, 1: 2536.5}\n",
      "if Attribute 1 > 0.22866933025538483:\n",
      "  if Attribute 0 <= 1.2986193010185283:\n",
      "    Leaf = Class 0 | {0: 2576.9937938955854, 1: 331.61441814498045}\n",
      "  if Attribute 0 > 1.2986193010185283:\n",
      "    Leaf = Class 1 | {0: 55.50620610441456, 1: 234.38558185501958}\n",
      "\n"
     ]
    }
   ],
   "source": [
    "print (cfiers[1].get_model_description())"
   ]
  },
  {
   "cell_type": "code",
   "execution_count": 51,
   "metadata": {},
   "outputs": [
    {
     "data": {
      "text/plain": [
       "2"
      ]
     },
     "execution_count": 51,
     "metadata": {},
     "output_type": "execute_result"
    }
   ],
   "source": [
    "cfiers[1].measure_tree_depth()"
   ]
  },
  {
   "cell_type": "code",
   "execution_count": 52,
   "metadata": {},
   "outputs": [
    {
     "data": {
      "text/plain": [
       "60481"
      ]
     },
     "execution_count": 52,
     "metadata": {},
     "output_type": "execute_result"
    }
   ],
   "source": [
    "cfiers[1].measure_byte_size()"
   ]
  },
  {
   "cell_type": "markdown",
   "metadata": {},
   "source": [
    "## Copy"
   ]
  },
  {
   "cell_type": "code",
   "execution_count": 53,
   "metadata": {},
   "outputs": [
    {
     "data": {
      "text/plain": [
       "array([2.66430997, 1.62159776])"
      ]
     },
     "execution_count": 53,
     "metadata": {},
     "output_type": "execute_result"
    }
   ],
   "source": [
    "np.max(X,axis=0)"
   ]
  },
  {
   "cell_type": "code",
   "execution_count": 54,
   "metadata": {},
   "outputs": [],
   "source": [
    "X_copy = np.random.uniform(np.min(X,axis=0),np.max(X,axis=0),(20000,2))\n",
    "y_copy = cfiers[1].predict(X_copy)"
   ]
  },
  {
   "cell_type": "code",
   "execution_count": 55,
   "metadata": {},
   "outputs": [
    {
     "data": {
      "text/plain": [
       "(array([0, 1]), array([ 9677, 10323]))"
      ]
     },
     "execution_count": 55,
     "metadata": {},
     "output_type": "execute_result"
    }
   ],
   "source": [
    "np.unique(y_copy,return_counts=True)"
   ]
  },
  {
   "cell_type": "code",
   "execution_count": 56,
   "metadata": {},
   "outputs": [
    {
     "name": "stdout",
     "output_type": "stream",
     "text": [
      "HoeffdingTreeClassifier class constructor\n",
      "HoeffdingTreeClassifier class constructor\n",
      "Arbol 1\n"
     ]
    },
    {
     "data": {
      "text/plain": [
       "HoeffdingAdaptiveTreeClassifier(binary_split=False, bootstrap_sampling=True,\n",
       "                                grace_period=200, leaf_prediction='nba',\n",
       "                                max_byte_size=33554432,\n",
       "                                memory_estimate_period=1000000, nb_threshold=0,\n",
       "                                no_preprune=False, nominal_attributes=None,\n",
       "                                remove_poor_atts=False, split_confidence=1e-10,\n",
       "                                split_criterion='misclassification',\n",
       "                                stop_mem_management=False, tie_threshold=0.05)"
      ]
     },
     "execution_count": 56,
     "metadata": {},
     "output_type": "execute_result"
    }
   ],
   "source": [
    "\n",
    "y_weights_copy = compute_y_weight(y_copy)\n",
    "\n",
    "cfiers_copy = [HoeffdingTreeClassifier(split_confidence=1e-10, split_criterion='misclassification'), \n",
    "          HoeffdingAdaptiveTreeClassifier(split_confidence=1e-10,split_criterion='misclassification')\n",
    "         ]\n",
    "\n",
    "cfiers_copy[0].partial_fit(X_copy,y_copy,[0,1],y_weights_copy )\n",
    "cfiers_copy[1].partial_fit(X_copy,y_copy,[0,1],y_weights_copy )"
   ]
  },
  {
   "cell_type": "markdown",
   "metadata": {},
   "source": [
    "## Gráfico"
   ]
  },
  {
   "cell_type": "code",
   "execution_count": 57,
   "metadata": {},
   "outputs": [
    {
     "data": {
      "image/png": "[encoded data removed]",
      "text/plain": [
       "<Figure size 288x288 with 1 Axes>"
      ]
     },
     "metadata": {},
     "output_type": "display_data"
    }
   ],
   "source": [
    "clf = cfiers[1] # modelo original\n",
    "copy = cfiers_copy[1] # modelo de copia \n",
    "h = 0.01\n",
    "x_min, x_max = X[:, 0].min()-0.1, X[:, 0].max()+0.1\n",
    "y_min, y_max = X[:, 1].min()-0.1, X[:, 1].max()+0.1\n",
    "xx, yy = np.meshgrid(np.arange(x_min, x_max, h), np.arange(y_min, y_max, h))\n",
    "\n",
    "fig = plt.figure(figsize=(4,4))\n",
    "ax = plt.subplot(1,1,1)\n",
    "\n",
    "Z = copy.predict(np.c_[xx.ravel(), yy.ravel()])\n",
    "Z = Z.reshape(xx.shape)\n",
    "ax.contourf(xx, yy, Z, cmap='RdBu', alpha=.7)\n",
    "\n",
    "ax.scatter(X_copy[:, 0], X_copy[:, 1], s=10, c=y_copy, cmap='RdBu')\n",
    "\n",
    "Z  = clf.predict(np.c_[xx.ravel(), yy.ravel()])\n",
    "Z = Z.reshape(xx.shape)\n",
    "ax.contour(xx, yy, Z, cmap=clr.ListedColormap(['black', 'black']), linewidths=0.5, linestyles='dotted')\n",
    "\n",
    "ax.set_xlim([x_min, x_max])\n",
    "ax.set_ylim([y_min, y_max])\n",
    "ax.set_xticks([])\n",
    "ax.set_yticks([])\n",
    "\n",
    "for label in ax.get_xticklabels() :\n",
    "    label.set_fontproperties(helvetica8)\n",
    "for label in ax.get_yticklabels() :\n",
    "    label.set_fontproperties(helvetica8)\n",
    "\n",
    "plt.show()"
   ]
  },
  {
   "cell_type": "code",
   "execution_count": 58,
   "metadata": {},
   "outputs": [
    {
     "name": "stdout",
     "output_type": "stream",
     "text": [
      "if Attribute 0 <= 0.2533450279469751:\n",
      "  if Attribute 0 <= -0.2952159146589588:\n",
      "    Leaf = Class 0 | {0: 3935.212029546377, 1: 340.4980844855792}\n",
      "  if Attribute 0 > -0.2952159146589588:\n",
      "    if Attribute 1 <= 0.3901747197882075:\n",
      "      Leaf = Class 1 | {0: 5.688709546406105, 1: 577.5038784279377}\n",
      "    if Attribute 1 > 0.3901747197882075:\n",
      "      Leaf = Class 0 | {0: 435.0986404535948, 1: 24.32702157206166}\n",
      "if Attribute 0 > 0.2533450279469751:\n",
      "  if Attribute 0 <= 0.9113011939909773:\n",
      "    if Attribute 1 <= 0.13326502322407818:\n",
      "      Leaf = Class 1 | {0: 6.03532320745864, 1: 374.1794553903066}\n",
      "    if Attribute 1 > 0.13326502322407818:\n",
      "      Leaf = Class 0 | {0: 388.30242679254184, 1: 24.288344609693116}\n",
      "  if Attribute 0 > 0.9113011939909773:\n",
      "    if Attribute 0 <= 1.2299432976241282:\n",
      "      Leaf = Class 0 | {0: 243.0926985416881, 1: 170.2996503875233}\n",
      "    if Attribute 0 > 1.2299432976241282:\n",
      "      Leaf = Class 1 | {0: 30.76640145831082, 1: 1752.3590996124458}\n",
      "\n"
     ]
    }
   ],
   "source": [
    "print (copy.get_model_description())"
   ]
  },
  {
   "cell_type": "code",
   "execution_count": 59,
   "metadata": {},
   "outputs": [
    {
     "data": {
      "image/png": "[encoded data removed]",
      "text/plain": [
       "<Figure size 288x288 with 1 Axes>"
      ]
     },
     "metadata": {},
     "output_type": "display_data"
    }
   ],
   "source": [
    "clf = cfiers[1] # modelo original\n",
    "copy = cfiers_copy[1] # modelo de copia \n",
    "h = 0.01\n",
    "x_min, x_max = X[:, 0].min()-0.1, X[:, 0].max()+0.1\n",
    "y_min, y_max = X[:, 1].min()-0.1, X[:, 1].max()+0.1\n",
    "xx, yy = np.meshgrid(np.arange(x_min, x_max, h), np.arange(y_min, y_max, h))\n",
    "\n",
    "fig = plt.figure(figsize=(4,4))\n",
    "ax = plt.subplot(1,1,1)\n",
    "\n",
    "Z = copy.predict(np.c_[xx.ravel(), yy.ravel()])\n",
    "Z = Z.reshape(xx.shape)\n",
    "ax.contourf(xx, yy, Z, cmap='RdBu', alpha=.7)\n",
    "\n",
    "ax.scatter(X[:, 0], X[:, 1], s=10, c=y, cmap='RdBu')\n",
    "\n",
    "Z  = clf.predict(np.c_[xx.ravel(), yy.ravel()])\n",
    "Z = Z.reshape(xx.shape)\n",
    "ax.contour(xx, yy, Z, cmap=clr.ListedColormap(['black', 'black']), linewidths=0.5, linestyles='dotted')\n",
    "\n",
    "ax.set_xlim([x_min, x_max])\n",
    "ax.set_ylim([y_min, y_max])\n",
    "ax.set_xticks([])\n",
    "ax.set_yticks([])\n",
    "\n",
    "for label in ax.get_xticklabels() :\n",
    "    label.set_fontproperties(helvetica8)\n",
    "for label in ax.get_yticklabels() :\n",
    "    label.set_fontproperties(helvetica8)\n",
    "\n",
    "plt.show()"
   ]
  },
  {
   "cell_type": "code",
   "execution_count": null,
   "metadata": {},
   "outputs": [],
   "source": []
  }
 ],
 "metadata": {
  "kernelspec": {
   "display_name": "skmultiflow_dev",
   "language": "python",
   "name": "skmultiflow_dev"
  },
  "language_info": {
   "codemirror_mode": {
    "name": "ipython",
    "version": 3
   },
   "file_extension": ".py",
   "mimetype": "text/x-python",
   "name": "python",
   "nbconvert_exporter": "python",
   "pygments_lexer": "ipython3",
   "version": "3.6.10"
  }
 },
 "nbformat": 4,
 "nbformat_minor": 2
}
