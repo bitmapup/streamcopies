{
 "cells": [
  {
   "cell_type": "code",
   "execution_count": 6,
   "metadata": {},
   "outputs": [],
   "source": [
    "import psycopg2\n",
    "import sys\n",
    "import pprint\n",
    "from datetime import date, timedelta\n",
    "import pandas as pd\n",
    "\n",
    "import matplotlib.pyplot as plt\n",
    "import os,sys\n",
    "import matplotlib.patches as mpatches\n",
    "\n",
    "#sys.path.append(\"../Mfig/\")\n",
    "#import mplp\n",
    "from itertools import chain\n",
    "import numpy as np\n",
    "import csv\n",
    "from collections import defaultdict\n",
    "from datetime import date, timedelta\n",
    "from datetime import datetime\n",
    "from scipy.stats import entropy\n",
    "%matplotlib inline"
   ]
  },
  {
   "cell_type": "markdown",
   "metadata": {},
   "source": [
    "## DB connection"
   ]
  },
  {
   "cell_type": "code",
   "execution_count": 7,
   "metadata": {},
   "outputs": [],
   "source": [
    "def conectionDB():\n",
    "    conn_string = \"dbname='stic' port='5432' user='stic' password='stic2019' host='gpmaster.as-dell.copernic.local'\"\n",
    "    #print (\"Connecting to database ->{}\".format(conn_string))\n",
    "    conn = psycopg2.connect(conn_string)\n",
    "    return conn"
   ]
  },
  {
   "cell_type": "markdown",
   "metadata": {},
   "source": [
    "# build dictionaries\n"
   ]
  },
  {
   "cell_type": "code",
   "execution_count": 8,
   "metadata": {},
   "outputs": [],
   "source": [
    "dict_dpto = dict()\n",
    "dict_province = dict()\n",
    "dict_district = dict()\n",
    "with open('../data/ubigeo_inei.csv') as csv_file:\n",
    "    csv_reader = csv.reader(csv_file, delimiter=',')\n",
    "    line_count = 0\n",
    "    for row in csv_reader:\n",
    "        #print (row)\n",
    "        if (str(row[0])!=''):\n",
    "            dict_dpto[str(row[3]).lower()]=(str(row[0]))\n",
    "        if (str(row[1])!=''):\n",
    "            dict_province[(row[4]).lower()]=(row[0]+''+row[1])\n",
    "        if (str(row[2])!=''):\n",
    "            dict_district[(row[5]).lower()]=(row[0]+''+row[1]+''+row[2])\n",
    "        \n",
    "dict_gender = {'M':1,'F':0}\n",
    "dict_card = {'TD':1,'TC':0}\n",
    "dict_region = {'NORTE':0,'ORIENTE':1,'SUR':2,'CENTRO':3,'SIERRA CENTRAL':4,\n",
    "               'LIMA CENTRO':5,'LIMA ESTE':6,'LIMA SUR':7,'LIMA NORTE':8,\n",
    "               'LIMA MODERNA':9,'LIMA PROVINCIA':10,'CALLAO':11,'':12}\n"
   ]
  },
  {
   "cell_type": "code",
   "execution_count": 9,
   "metadata": {},
   "outputs": [],
   "source": [
    "columnNames=['client_id',    #-- 0  \n",
    "        'social_class' ,     #-- 1\n",
    "        'date',              #-- 2\n",
    "        'mcc',               #-- 3\n",
    "        'country_code',      #-- 4\n",
    "        'amount_usd',        #-- 5 *\n",
    "        'client_age',        #-- 6 *\n",
    "        'client_gender',     #-- 7\n",
    "        'debit_type',        #-- 8 Credit or debit card\n",
    "        'agency_id',         #-- 9\n",
    "        'agency_departement',#-- 10 \n",
    "        'agency_province',   #-- 11\n",
    "        'agency_district',   #-- 12\n",
    "        'agency_lima',       #-- 13\n",
    "        'agency_region',     #-- 14\n",
    "        'merchant_id',       #-- 15\n",
    "        'merchant_departement', #-- 16\n",
    "        'merchant_province', #-- 17\n",
    "        'merchant_district', #-- 18\n",
    "        'merchant_lon',      #-- 19 *\n",
    "        'merchant_lat']\n"
   ]
  },
  {
   "cell_type": "markdown",
   "metadata": {},
   "source": [
    "## extraction loop"
   ]
  },
  {
   "cell_type": "code",
   "execution_count": 10,
   "metadata": {},
   "outputs": [],
   "source": [
    "def extract_all (index):\n",
    "    PLIMIT = 1000000\n",
    "    POFFSET = 1000000\n",
    "    #NUM = 93 # Millions of records (92 470 071)\n",
    "    NUM = 5 #for test \n",
    "    i=index\n",
    "    while (i < NUM):\n",
    "        print (\"Processing {}/{} ...\".format(i,NUM))\n",
    "        query =\"\"\"\n",
    "            SELECT \n",
    "                bbva.client_id,    -- 0  \n",
    "                social_class ,     -- 1\n",
    "                date,              -- 2\n",
    "                mcc,               -- 3\n",
    "                country_code,      -- 4\n",
    "                amount_usd,        -- 5 *\n",
    "                client_age,        -- 6 *\n",
    "                client_gender,     -- 7\n",
    "                debit_type,        -- 8 Credit or debit card\n",
    "                agency_id,         -- 9\n",
    "                agency_departement,-- 10 \n",
    "                agency_province,   -- 11\n",
    "                agency_district,   -- 12\n",
    "                agency_lima,       -- 13\n",
    "                agency_region,     -- 14\n",
    "                merchant_id,       -- 15\n",
    "                merchant_departement, -- 16\n",
    "                merchant_province, -- 17\n",
    "                merchant_district, -- 18\n",
    "                merchant_lon,      -- 19 *\n",
    "                merchant_lat      -- 20 *\n",
    "            FROM \n",
    "                public.bbva \n",
    "            INNER JOIN \n",
    "                client\n",
    "            ON \n",
    "                client.client_id = bbva.client_id\n",
    "            ORDER BY \n",
    "                bbva.date ASC\n",
    "            LIMIT {}\n",
    "            OFFSET {}\n",
    "        ;\n",
    "        \"\"\".format(PLIMIT,POFFSET*i)\n",
    "        conn = conectionDB()\n",
    "        cursor = conn.cursor();\n",
    "        df = pd.read_sql(query, conn)\n",
    "        \n",
    "        df['small_social_class'] = df.apply(lambda row: 1 if (row.social_class<=3) else (3 if (row.social_class>=7) else 2), axis=1)\n",
    "        del df['social_class']\n",
    "        df['country_code'] = df.apply(lambda row: 1 if (row.country_code=='PE') else 0 , axis=1)\n",
    "        df['agency_lima'] = df.apply(lambda row: 1 if (row.agency_lima=='TRUE') else 0 , axis=1)\n",
    "        df[\"date\"] = pd.to_datetime(df[\"date\"],infer_datetime_format=True)\n",
    "        df[\"date\"]=df.apply(lambda row: row.date.timestamp() , axis=1) \n",
    "        df[\"client_id\"]=df.apply(lambda row: sum([ord(i) for i in str(row.client_id)]) , axis=1) \n",
    "\n",
    "\n",
    "        df=df.replace({\"agency_region\":dict_region,\n",
    "                       \"client_gender\": dict_gender,\n",
    "                          \"debit_type\":dict_card,\n",
    "                         \"agency_departement\":dict_dpto,\n",
    "                         \"agency_province\":dict_province,\n",
    "                         \"agency_district\":dict_district,\n",
    "                          \"merchant_departement\":dict_dpto,\n",
    "                         \"merchant_province\":dict_province,\n",
    "                         \"merchant_district\":dict_district\n",
    "                         })\n",
    "        \n",
    "        df[\"agency_departement\"] = df[\"agency_departement\"].str.lower()\n",
    "        df[\"agency_province\"] = df[\"agency_province\"].str.lower()\n",
    "        df[\"agency_district\"] = df[\"agency_district\"].str.lower()\n",
    "        df[\"merchant_departement\"] = df[\"merchant_departement\"].str.lower()\n",
    "        df[\"merchant_province\"] = df[\"merchant_province\"].str.lower()\n",
    "        df[\"merchant_district\"] = df[\"merchant_district\"].str.lower()\n",
    "\n",
    "        df.fillna(-1, inplace=True)\n",
    "\n",
    "        df.to_csv (r'../data_output/export_dataframe_{}.csv'.format(i), index = None, header=False)\n",
    "        i+=1"
   ]
  },
  {
   "cell_type": "code",
   "execution_count": 11,
   "metadata": {},
   "outputs": [
    {
     "name": "stdout",
     "output_type": "stream",
     "text": [
      "Processing 1/5 ...\n",
      "Processing 2/5 ...\n",
      "Processing 3/5 ...\n",
      "Processing 4/5 ...\n"
     ]
    }
   ],
   "source": [
    "extract_all(1)"
   ]
  },
  {
   "cell_type": "code",
   "execution_count": null,
   "metadata": {},
   "outputs": [],
   "source": []
  }
 ],
 "metadata": {
  "kernelspec": {
   "display_name": "onlineHT",
   "language": "python",
   "name": "onlineht"
  },
  "language_info": {
   "codemirror_mode": {
    "name": "ipython",
    "version": 3
   },
   "file_extension": ".py",
   "mimetype": "text/x-python",
   "name": "python",
   "nbconvert_exporter": "python",
   "pygments_lexer": "ipython3",
   "version": "3.6.10"
  }
 },
 "nbformat": 4,
 "nbformat_minor": 2
}
