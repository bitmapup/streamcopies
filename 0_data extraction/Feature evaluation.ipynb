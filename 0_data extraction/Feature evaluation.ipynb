{
 "cells": [
  {
   "cell_type": "code",
   "execution_count": 8,
   "metadata": {},
   "outputs": [],
   "source": [
    "dataset_feature_names=[ \n",
    "                \"country_code\",     #-- 0\n",
    "                \"amount_usd\",        #-- 1 *\n",
    "                \"client_age\",        #-- 2 *\n",
    "                \"client_gender\",     #-- 3\n",
    "                \"debit_type\",        #-- 4 Credit or debit card\n",
    "                \"agency_departement\",#-- 5 \n",
    "                \"agency_province\",   #-- 6\n",
    "                \"agency_district\",   #-- 7\n",
    "                \"agency_region\",     #-- 8\n",
    "                \"merchant_departement\", #-- 9\n",
    "                \"merchant_province\", #-- 10\n",
    "                \"merchant_district\", #-- 11\n",
    "                \"Social_class\"\n",
    "              ]\n"
   ]
  },
  {
   "cell_type": "code",
   "execution_count": 13,
   "metadata": {},
   "outputs": [
    {
     "data": {
      "text/plain": [
       "debit_type             -0.373545\n",
       "merchant_district      -0.033744\n",
       "agency_region           0.074308\n",
       "merchant_province       0.080771\n",
       "merchant_departement    0.080825\n",
       "amount_usd              0.086566\n",
       "agency_district         0.097657\n",
       "agency_province         0.099700\n",
       "agency_departement      0.100240\n",
       "client_gender           0.110157\n",
       "client_age              0.207572\n",
       "Social_class            1.000000\n",
       "country_code                 NaN\n",
       "Name: Social_class, dtype: float64"
      ]
     },
     "execution_count": 13,
     "metadata": {},
     "output_type": "execute_result"
    }
   ],
   "source": [
    "import pandas as pd \n",
    "  \n",
    "# Making data frame from the csv file \n",
    "df = pd.read_csv(\"../data_output/export_dataframe_0v3.csv\", index_col=None, names=dataset_feature_names)\n",
    "df.fillna(0, inplace=True)\n",
    "df.dropna()\n",
    "df.corr(method ='pearson').Social_class.sort_values()\n",
    "#df.tail()"
   ]
  },
  {
   "cell_type": "markdown",
   "metadata": {},
   "source": [
    "## Class distribution"
   ]
  },
  {
   "cell_type": "code",
   "execution_count": 12,
   "metadata": {},
   "outputs": [
    {
     "data": {
      "text/plain": [
       "3    0.589920\n",
       "2    0.261091\n",
       "1    0.148989\n",
       "Name: Social_class, dtype: float64"
      ]
     },
     "execution_count": 12,
     "metadata": {},
     "output_type": "execute_result"
    }
   ],
   "source": [
    "df.Social_class.value_counts()/df.Social_class.count()"
   ]
  },
  {
   "cell_type": "code",
   "execution_count": null,
   "metadata": {},
   "outputs": [],
   "source": []
  }
 ],
 "metadata": {
  "kernelspec": {
   "display_name": "onlineHT",
   "language": "python",
   "name": "onlineht"
  },
  "language_info": {
   "codemirror_mode": {
    "name": "ipython",
    "version": 3
   },
   "file_extension": ".py",
   "mimetype": "text/x-python",
   "name": "python",
   "nbconvert_exporter": "python",
   "pygments_lexer": "ipython3",
   "version": "3.6.10"
  }
 },
 "nbformat": 4,
 "nbformat_minor": 2
}
