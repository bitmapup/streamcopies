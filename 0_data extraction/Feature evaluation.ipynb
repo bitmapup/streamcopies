{
 "cells": [
  {
   "cell_type": "code",
   "execution_count": 18,
   "metadata": {},
   "outputs": [],
   "source": [
    "dataset_feature_names=[\"client_id\",    #-- 1 X\n",
    "                \"date\",              #-- 2 X\n",
    "                \"mcc\",               #-- 3\n",
    "                \"country_code\",      #-- 4\n",
    "                \"amount_usd\",        #-- 5 *\n",
    "                \"client_age\",        #-- 6 *\n",
    "                \"client_gender\",     #-- 7\n",
    "                \"debit_type\",        #-- 8 Credit or debit card\n",
    "                \"agency_id\",         #-- 9 X\n",
    "                \"agency_departement\",#-- 10\n",
    "                \"agency_province\",   #-- 11\n",
    "                \"agency_district\",   #-- 12\n",
    "                \"agency_lima\",       #-- 13\n",
    "                \"agency_region\",     #-- 14\n",
    "                \"merchant_id\",       #-- 15\n",
    "                \"merchant_departement\", #-- 16\n",
    "                \"merchant_province\", #-- 17\n",
    "                \"merchant_district\", #-- 18\n",
    "                \"merchant_lon\",      #-- 19 * X\n",
    "                \"merchant_lat\",      #-- 20 * X\n",
    "                \"Social_class\"\n",
    "              ]"
   ]
  },
  {
   "cell_type": "code",
   "execution_count": 30,
   "metadata": {},
   "outputs": [
    {
     "data": {
      "text/plain": [
       "debit_type             -0.373545\n",
       "agency_id              -0.039627\n",
       "merchant_id            -0.037614\n",
       "merchant_district      -0.033744\n",
       "merchant_lon           -0.017668\n",
       "merchant_lat           -0.014444\n",
       "client_id              -0.000031\n",
       "mcc                     0.023975\n",
       "date                    0.024038\n",
       "agency_region           0.074308\n",
       "merchant_province       0.080771\n",
       "merchant_departement    0.080825\n",
       "amount_usd              0.086566\n",
       "agency_district         0.097657\n",
       "agency_province         0.099700\n",
       "agency_departement      0.100240\n",
       "client_gender           0.110157\n",
       "client_age              0.207572\n",
       "Social_class            1.000000\n",
       "country_code                 NaN\n",
       "agency_lima                  NaN\n",
       "Name: Social_class, dtype: float64"
      ]
     },
     "execution_count": 30,
     "metadata": {},
     "output_type": "execute_result"
    }
   ],
   "source": [
    "import pandas as pd \n",
    "  \n",
    "# Making data frame from the csv file \n",
    "df = pd.read_csv(\"../data_output/export_dataframe_0.csv\", index_col=None, names=dataset_feature_names)\n",
    "df.fillna(0, inplace=True)\n",
    "df.dropna()\n",
    "df.corr(method ='pearson').Social_class.sort_values()\n",
    "#df.tail()"
   ]
  },
  {
   "cell_type": "code",
   "execution_count": null,
   "metadata": {},
   "outputs": [],
   "source": []
  }
 ],
 "metadata": {
  "kernelspec": {
   "display_name": "onlineHT",
   "language": "python",
   "name": "onlineht"
  },
  "language_info": {
   "codemirror_mode": {
    "name": "ipython",
    "version": 3
   },
   "file_extension": ".py",
   "mimetype": "text/x-python",
   "name": "python",
   "nbconvert_exporter": "python",
   "pygments_lexer": "ipython3",
   "version": "3.6.10"
  }
 },
 "nbformat": 4,
 "nbformat_minor": 2
}
